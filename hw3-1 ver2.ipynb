{
 "cells": [
  {
   "cell_type": "code",
   "execution_count": 89,
   "metadata": {},
   "outputs": [],
   "source": [
    "#3-1\n",
    "\n",
    "import functools\n",
    "from typing import List\n",
    "\n",
    "def bisect_left(a, x, lo=0, hi=None):\n",
    "    \"\"\"Return the index where to insert item x in list a, assuming a is sorted.\n",
    "    The return value i is such that all e in a[:i] have e < x, and all e in\n",
    "    a[i:] have e >= x.  So if x already appears in the list, a.insert(x) will\n",
    "    insert just before the leftmost x already there.\n",
    "    Optional args lo (default 0) and hi (default len(a)) bound the\n",
    "    slice of a to be searched.\n",
    "    \"\"\"\n",
    "\n",
    "    if lo < 0:\n",
    "        raise ValueError('lo must be non-negative')\n",
    "    if hi is None:\n",
    "        hi = len(a)\n",
    "    while lo < hi:\n",
    "        mid = (lo+hi)//2\n",
    "        if a[mid] < x: lo = mid+1\n",
    "        else: hi = mid\n",
    "    return lo\n",
    "    \n",
    "def bisect_right(a, x, lo=0, hi=None):\n",
    "    \"\"\"Return the index where to insert item x in list a, assuming a is sorted.\n",
    "    The return value i is such that all e in a[:i] have e <= x, and all e in\n",
    "    a[i:] have e > x.  So if x already appears in the list, a.insert(x) will\n",
    "    insert just after the rightmost x already there.\n",
    "    Optional args lo (default 0) and hi (default len(a)) bound the\n",
    "    slice of a to be searched.\n",
    "    \"\"\"\n",
    "\n",
    "    if lo < 0:\n",
    "        raise ValueError('lo must be non-negative')\n",
    "    if hi is None:\n",
    "        hi = len(a)\n",
    "    while lo < hi:\n",
    "        mid = (lo+hi)//2\n",
    "        if x < a[mid]: hi = mid\n",
    "        else: lo = mid+1\n",
    "    return lo\n",
    "\n",
    "\n",
    "class Restaurant(object):\n",
    "    def __init__(self, id :int, rate :int, price :int, distance :int):\n",
    "        \n",
    "        self.id = id\n",
    "        self.rate= rate\n",
    "        self.price=price\n",
    "        self.distance=distance\n",
    "        self.compare_natural = round(distance * price / rate,5)\n",
    "\n",
    "    def getID(self) -> int:\n",
    "        \n",
    "        return self.id \n",
    "\n",
    "    def __lt__(self, b) -> bool:\n",
    "        \"\"\"\n",
    "        The natural comparator of Restaurant\n",
    "        \n",
    "        The comparator should compare the restaurants by the value calculated from the formula\n",
    "        `distance * price / rate`\n",
    "        and return True if the value of `self` is lower than `b`\n",
    "        If the value is the same, keep the same order as input.\n",
    "        \"\"\"\n",
    "         \n",
    "        if self.compare_natural < b.compare_natural:\n",
    "            return True\n",
    "        else:\n",
    "            return False\n",
    "\n",
    "    @staticmethod\n",
    "    def comparator1(a, b) -> int:\n",
    "        \"\"\"\n",
    "        Compare two restaurants by restaurant object\n",
    "\n",
    "        Order the restaurants by the rate in increasing order,\n",
    "        distance in increasing order (if tied),and \n",
    "        id in decreasing order (if tied again).\n",
    "        \n",
    "        Parameters:\n",
    "            a(Restaurant): The restaurant object\n",
    "            b(Restaurant): The restaurant object\n",
    "\n",
    "        Returns:\n",
    "            result(int): -1 for restaurant a has smaller order, 1 for restaurant b has smaller order, 0 for equal.\n",
    "        \"\"\"\n",
    "        if a.rate < b.rate:\n",
    "            return -1\n",
    "        elif b.rate < a.rate:\n",
    "            return 1\n",
    "        else:\n",
    "            if a.distance < b.distance:\n",
    "                return -1\n",
    "            elif b.distance < a.distance:\n",
    "                return 1\n",
    "            else:\n",
    "                if a.id > b.id:\n",
    "                    return -1\n",
    "                elif b.id > a.id:\n",
    "                    return 1\n",
    "                else:\n",
    "                    return 0\n",
    "                \n",
    "   \n",
    "        \n",
    "\n",
    "class Restaurants(object):\n",
    "    def __init__(self, restaurants :List[Restaurant]):\n",
    "        \n",
    "        self.restaurants=restaurants\n",
    "        self.N=len(restaurants)\n",
    "        self.rests=[]\n",
    "        self.prices=[]\n",
    "        \n",
    "        for i in restaurants:\n",
    "            self.rests.append([i.id, i.rate, i.price, i.distance])\n",
    "            self.prices.append(i.price)\n",
    "            \n",
    "            \n",
    "        self.sorted_by_price_index = sorted( self.prices )\n",
    "        self.sorted_by_price = sorted( self.rests , key=lambda t: t[2])\n",
    "\n",
    "    def filter(self, min_price: int, max_price :int, min_rate: int) -> List[int]:\n",
    "        \"\"\"\n",
    "        Filter the restaurants, output the list of restaurant id that meet the condition.\n",
    "\n",
    "        Output the list in in the increasing order of distance;\n",
    "        If the distance is the same, order the restaurant ids from the highest to the lowest.\n",
    "\n",
    "        Returns:\n",
    "            restaurants (List[int]): The list of restaurant id.\n",
    "        \"\"\"\n",
    "        \n",
    "        left_index = bisect_left(self.sorted_by_price_index,min_price)\n",
    "        right_index = bisect_right(self.sorted_by_price_index,max_price)\n",
    "        \n",
    "        pass_item_1 = self.sorted_by_price[left_index:right_index] \n",
    "        \n",
    "        \n",
    "        pass_item_2 = [] \n",
    "        \n",
    "        \n",
    "        \n",
    "        \n",
    "        \n",
    "        if min_rate==1:\n",
    "             pass_item_2=pass_item_1\n",
    "            \n",
    "        else:   \n",
    "            \n",
    "            n=len(pass_item_1)\n",
    "        \n",
    "            for i in range(n):\n",
    "                if( min_rate <= pass_item_1[i][1] ):\n",
    "                    pass_item_2.append(pass_item_1[i])\n",
    "   \n",
    "        \n",
    "        ans = sorted(pass_item_2 , key = lambda t: t[0],reverse=True)\n",
    "        ans = [ i[0] for i in sorted(ans , key=lambda t: t[3],reverse=False) ]\n",
    "        \n",
    "        \n",
    "        \n",
    "        return ans\n"
   ]
  },
  {
   "cell_type": "code",
   "execution_count": 90,
   "metadata": {},
   "outputs": [
    {
     "name": "stdout",
     "output_type": "stream",
     "text": [
      "[18, 15, 19]\n",
      "[18, 19]\n",
      "[18, 15, 20, 19]\n",
      "[]\n",
      "[15, 19]\n",
      "[15, 19]\n",
      "[3, 0, 1, 2]\n",
      "[0, 3, 2, 1]\n"
     ]
    },
    {
     "data": {
      "text/plain": [
       "'\\nOutput:\\n[18, 15, 19]\\n[18, 19]\\n[18, 15, 20, 19]\\n[]\\n[15, 19]\\n[15, 19]\\n[3, 0, 1, 2]\\n[0, 3, 2, 1]\\n    '"
      ]
     },
     "execution_count": 90,
     "metadata": {},
     "output_type": "execute_result"
    }
   ],
   "source": [
    "if __name__ == \"__main__\":\n",
    "    rests = [\n",
    "        # id, rate, price, distance\n",
    "        Restaurant(20, 1, 20, 12),\n",
    "        Restaurant(15, 3, 19, 11),\n",
    "        Restaurant(19, 4, 19, 12),\n",
    "        Restaurant(18, 5, 20, 11),\n",
    "    ]\n",
    "    r = Restaurants(rests)\n",
    "    print(r.filter(0, 25, 3)) \n",
    "    print(r.filter(0, 25, 4)) \n",
    "    print(r.filter(0, 20, 1)) \n",
    "    print(r.filter(0, 10, 1))\n",
    "    print(r.filter(0, 19, 1))\n",
    "    print(r.filter(19, 19, 3))\n",
    "\n",
    "    # case6\n",
    "    rests = [\n",
    "        # id, rate, price, distance\n",
    "        Restaurant(3, 2, 3, 8),\n",
    "        Restaurant(0, 2, 4, 6),\n",
    "        Restaurant(2, 4, 5, 12),\n",
    "        Restaurant(1, 5, 6, 11),\n",
    "    ]\n",
    "    print([i.getID() for i in sorted(rests)])\n",
    "    print([i.getID() for i in sorted(rests, key=functools.cmp_to_key(Restaurant.comparator1))])\n",
    "\n",
    "\n",
    "\n",
    "\n",
    "\"\"\"\n",
    "Output:\n",
    "[18, 15, 19]\n",
    "[18, 19]\n",
    "[18, 15, 20, 19]\n",
    "[]\n",
    "[15, 19]\n",
    "[15, 19]\n",
    "[3, 0, 1, 2]\n",
    "[0, 3, 2, 1]\n",
    "    \"\"\"\n"
   ]
  },
  {
   "cell_type": "markdown",
   "metadata": {},
   "source": [
    "### 測試 Binary Search"
   ]
  },
  {
   "cell_type": "code",
   "execution_count": 1,
   "metadata": {},
   "outputs": [],
   "source": [
    "def bisect_left(a, x, lo=0, hi=None):\n",
    "    \"\"\"Return the index where to insert item x in list a, assuming a is sorted.\n",
    "    The return value i is such that all e in a[:i] have e < x, and all e in\n",
    "    a[i:] have e >= x.  So if x already appears in the list, a.insert(x) will\n",
    "    insert just before the leftmost x already there.\n",
    "    Optional args lo (default 0) and hi (default len(a)) bound the\n",
    "    slice of a to be searched.\n",
    "    \"\"\"\n",
    "\n",
    "    if lo < 0:\n",
    "        raise ValueError('lo must be non-negative')\n",
    "    if hi is None:\n",
    "        hi = len(a)\n",
    "    while lo < hi:\n",
    "        mid = (lo+hi)//2\n",
    "        if a[mid] < x: lo = mid+1\n",
    "        else: hi = mid\n",
    "    return lo\n",
    "    \n",
    "def bisect_right(a, x, lo=0, hi=None):\n",
    "    \"\"\"Return the index where to insert item x in list a, assuming a is sorted.\n",
    "    The return value i is such that all e in a[:i] have e <= x, and all e in\n",
    "    a[i:] have e > x.  So if x already appears in the list, a.insert(x) will\n",
    "    insert just after the rightmost x already there.\n",
    "    Optional args lo (default 0) and hi (default len(a)) bound the\n",
    "    slice of a to be searched.\n",
    "    \"\"\"\n",
    "\n",
    "    if lo < 0:\n",
    "        raise ValueError('lo must be non-negative')\n",
    "    if hi is None:\n",
    "        hi = len(a)\n",
    "    while lo < hi:\n",
    "        mid = (lo+hi)//2\n",
    "        if x < a[mid]: hi = mid\n",
    "        else: lo = mid+1\n",
    "    return lo\n"
   ]
  },
  {
   "cell_type": "code",
   "execution_count": 61,
   "metadata": {},
   "outputs": [],
   "source": [
    "a=[18, 15,15,20,20, 19]"
   ]
  },
  {
   "cell_type": "code",
   "execution_count": 62,
   "metadata": {},
   "outputs": [],
   "source": [
    "b=sorted(a)"
   ]
  },
  {
   "cell_type": "code",
   "execution_count": 64,
   "metadata": {},
   "outputs": [
    {
     "data": {
      "text/plain": [
       "[15, 15, 18, 19, 20, 20]"
      ]
     },
     "execution_count": 64,
     "metadata": {},
     "output_type": "execute_result"
    }
   ],
   "source": [
    "b"
   ]
  },
  {
   "cell_type": "code",
   "execution_count": 82,
   "metadata": {},
   "outputs": [
    {
     "data": {
      "text/plain": [
       "0"
      ]
     },
     "execution_count": 82,
     "metadata": {},
     "output_type": "execute_result"
    }
   ],
   "source": [
    "bisect_left(b,15)"
   ]
  },
  {
   "cell_type": "code",
   "execution_count": 85,
   "metadata": {},
   "outputs": [
    {
     "data": {
      "text/plain": [
       "3"
      ]
     },
     "execution_count": 85,
     "metadata": {},
     "output_type": "execute_result"
    }
   ],
   "source": [
    "bisect_right(b,18.5)"
   ]
  },
  {
   "cell_type": "code",
   "execution_count": 86,
   "metadata": {},
   "outputs": [
    {
     "data": {
      "text/plain": [
       "[15, 15, 18]"
      ]
     },
     "execution_count": 86,
     "metadata": {},
     "output_type": "execute_result"
    }
   ],
   "source": [
    "b[0:3]"
   ]
  },
  {
   "cell_type": "code",
   "execution_count": null,
   "metadata": {},
   "outputs": [],
   "source": []
  },
  {
   "cell_type": "code",
   "execution_count": null,
   "metadata": {},
   "outputs": [],
   "source": []
  }
 ],
 "metadata": {
  "kernelspec": {
   "display_name": "Python 3",
   "language": "python",
   "name": "python3"
  },
  "language_info": {
   "codemirror_mode": {
    "name": "ipython",
    "version": 3
   },
   "file_extension": ".py",
   "mimetype": "text/x-python",
   "name": "python",
   "nbconvert_exporter": "python",
   "pygments_lexer": "ipython3",
   "version": "3.8.3"
  }
 },
 "nbformat": 4,
 "nbformat_minor": 4
}
