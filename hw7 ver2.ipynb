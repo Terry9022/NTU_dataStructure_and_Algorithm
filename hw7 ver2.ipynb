{
 "cells": [
  {
   "cell_type": "code",
   "execution_count": 5,
   "metadata": {},
   "outputs": [],
   "source": [
    "import heapq as hq\n",
    "class Solution:\n",
    "    def swimInWater(self, grid: List[List[int]]) -> int:\n",
    "        n, m = len(grid), len(grid[0])\n",
    "        seen = set()\n",
    "        Q = [(grid[0][0], (0, 0))]\n",
    "        while Q:\n",
    "            u = hq.heappop(Q)\n",
    "            if u[1] == (n-1, m-1):\n",
    "                return u[0]\n",
    "            r, c = u[1]\n",
    "            for rr, cc in [(r - 1, c), (r + 1, c), (r, c - 1), (r, c + 1)]:\n",
    "                if rr < 0 or rr >= n or cc < 0 or cc >= m or (rr, cc) in seen:\n",
    "                    continue\n",
    "                hq.heappush(Q, (max(u[0], grid[rr][cc]), (rr, cc)))\n",
    "                seen.add((rr, cc))"
   ]
  },
  {
   "cell_type": "code",
   "execution_count": 6,
   "metadata": {},
   "outputs": [
    {
     "ename": "NameError",
     "evalue": "name 'current_height' is not defined",
     "output_type": "error",
     "traceback": [
      "\u001b[0;31m---------------------------------------------------------------------------\u001b[0m",
      "\u001b[0;31mNameError\u001b[0m                                 Traceback (most recent call last)",
      "\u001b[0;32m<ipython-input-6-0f2855eb5be5>\u001b[0m in \u001b[0;36m<module>\u001b[0;34m\u001b[0m\n\u001b[0;32m----> 1\u001b[0;31m \u001b[0;32mif\u001b[0m \u001b[0mcurrent_height\u001b[0m\u001b[0;34m>=\u001b[0m\u001b[0mlast_height\u001b[0m\u001b[0;34m:\u001b[0m\u001b[0;34m\u001b[0m\u001b[0;34m\u001b[0m\u001b[0m\n\u001b[0m\u001b[1;32m      2\u001b[0m     \u001b[0mconsumption\u001b[0m\u001b[0;34m=\u001b[0m\u001b[0;36m2\u001b[0m\u001b[0;34m*\u001b[0m\u001b[0;34m(\u001b[0m\u001b[0mcurrent_height\u001b[0m\u001b[0;34m-\u001b[0m\u001b[0mlast_height\u001b[0m\u001b[0;34m)\u001b[0m\u001b[0;34m\u001b[0m\u001b[0;34m\u001b[0m\u001b[0m\n\u001b[1;32m      3\u001b[0m \u001b[0;32melse\u001b[0m\u001b[0;34m:\u001b[0m\u001b[0;34m\u001b[0m\u001b[0;34m\u001b[0m\u001b[0m\n\u001b[1;32m      4\u001b[0m     \u001b[0mconsumption\u001b[0m\u001b[0;34m=\u001b[0m\u001b[0mlast_height\u001b[0m\u001b[0;34m-\u001b[0m\u001b[0mcurrent_height\u001b[0m\u001b[0;34m\u001b[0m\u001b[0;34m\u001b[0m\u001b[0m\n",
      "\u001b[0;31mNameError\u001b[0m: name 'current_height' is not defined"
     ]
    }
   ],
   "source": [
    "if current_height>=last_height:\n",
    "    consumption=2*(current_height-last_height)\n",
    "else:\n",
    "    consumption=last_height-current_height"
   ]
  },
  {
   "cell_type": "code",
   "execution_count": null,
   "metadata": {},
   "outputs": [],
   "source": []
  },
  {
   "cell_type": "code",
   "execution_count": null,
   "metadata": {},
   "outputs": [],
   "source": [
    "next_height=mountains_height[rr][cc]\n",
    "                if next_height>=current_height:\n",
    "                    consumption=2*(next_height-current_height)\n",
    "                else:\n",
    "                    consumption=current_height-next_height\n",
    "\n",
    "                total_consumption=current_consumption+consumption"
   ]
  },
  {
   "cell_type": "code",
   "execution_count": 33,
   "metadata": {},
   "outputs": [],
   "source": [
    "from typing import List\n",
    "import heapq as hq\n",
    "\n",
    "class Mountains:\n",
    "    def mountains(self, mountains_height: List[List[int]]) -> int:\n",
    "        n, m = len(mountains_height), len(mountains_height[0])\n",
    "        seen = set()\n",
    "        \n",
    "        Q = [(0, (0, 0))]\n",
    "        current_height=mountains_height[0][0]\n",
    "        total_consumption=0\n",
    "        while Q:\n",
    "            u = hq.heappop(Q)\n",
    "            #print(\"--------------------\")\n",
    "            #print(\"pop :\",u)\n",
    "            \n",
    "            \n",
    "            \n",
    "            next_height=mountains_height[u[1][0]][u[1][1]]\n",
    "            \n",
    "            if next_height>=current_height:\n",
    "                consumption=2*(next_height-current_height)\n",
    "            else:\n",
    "                consumption=current_height-next_height\n",
    "\n",
    "            total_consumption+=consumption\n",
    "            seen.add((0, 0))\n",
    "            \n",
    "            if u[1] == (n-1, m-1):\n",
    "                return total_consumption\n",
    "\n",
    "            current_height=next_height\n",
    "            r, c = u[1]\n",
    "            \n",
    "            \n",
    "            for rr, cc in [ (r - 1, c),(r + 1, c), (r, c - 1),(r, c + 1)]:  \n",
    "                if rr < 0 or rr >= n or cc < 0 or cc >= m:\n",
    "                    continue\n",
    "                if (rr,cc) in seen:\n",
    "                    continue\n",
    "                    \n",
    "                hq.heappush(Q, (max(u[0], mountains_height[rr][cc]), (rr, cc)))\n",
    "                seen.add((rr, cc))\n",
    "                #print(\"now :\",(max(u[0], mountains_height[rr][cc]), (rr, cc)))\n",
    "            \n",
    "                \n",
    "                "
   ]
  },
  {
   "cell_type": "code",
   "execution_count": 34,
   "metadata": {},
   "outputs": [
    {
     "name": "stdout",
     "output_type": "stream",
     "text": [
      "6\n"
     ]
    }
   ],
   "source": [
    "print(Mountains().mountains(\n",
    "        [[3, 4, 5], \n",
    "         [9, 3, 5], \n",
    "         [7, 4, 3]]))\n",
    "    # ans=6"
   ]
  },
  {
   "cell_type": "code",
   "execution_count": 35,
   "metadata": {},
   "outputs": [
    {
     "name": "stdout",
     "output_type": "stream",
     "text": [
      "42\n"
     ]
    }
   ],
   "source": [
    "if __name__ == \"__main__\":\n",
    "    print(Mountains().mountains(\n",
    "        [[ 0, 1, 2, 3, 4], \n",
    "         [24,23,22,21, 5], \n",
    "         [12,13,14,15,16],\n",
    "         [11,17,18,19,20],\n",
    "         [10, 9, 8, 7, 6]]))\n",
    "    # ans=42\n",
    "    "
   ]
  },
  {
   "cell_type": "code",
   "execution_count": 32,
   "metadata": {},
   "outputs": [
    {
     "data": {
      "text/plain": [
       "27"
      ]
     },
     "execution_count": 32,
     "metadata": {},
     "output_type": "execute_result"
    }
   ],
   "source": [
    "Mountains().mountains(\n",
    "        [[30, 5, 5], \n",
    "         [9, 30, 5], \n",
    "         [7, 60, 3]])"
   ]
  },
  {
   "cell_type": "code",
   "execution_count": null,
   "metadata": {},
   "outputs": [],
   "source": []
  },
  {
   "cell_type": "code",
   "execution_count": null,
   "metadata": {},
   "outputs": [],
   "source": []
  },
  {
   "cell_type": "code",
   "execution_count": null,
   "metadata": {},
   "outputs": [],
   "source": []
  }
 ],
 "metadata": {
  "kernelspec": {
   "display_name": "Python 3",
   "language": "python",
   "name": "python3"
  },
  "language_info": {
   "codemirror_mode": {
    "name": "ipython",
    "version": 3
   },
   "file_extension": ".py",
   "mimetype": "text/x-python",
   "name": "python",
   "nbconvert_exporter": "python",
   "pygments_lexer": "ipython3",
   "version": "3.8.3"
  }
 },
 "nbformat": 4,
 "nbformat_minor": 4
}
