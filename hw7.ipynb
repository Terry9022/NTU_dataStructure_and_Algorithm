{
 "cells": [
  {
   "cell_type": "code",
   "execution_count": 49,
   "metadata": {},
   "outputs": [],
   "source": [
    "from typing import List\n",
    "import heapq as hq\n",
    "\n",
    "class Mountains:\n",
    "    def mountains(self, mountains_height: List[List[int]]) -> int:\n",
    "        n, m = len(mountains_height), len(mountains_height[0])\n",
    "        if n>0:\n",
    "            seen = set()\n",
    "            dictionary={}\n",
    "            Q = [(0, (0, 0))]\n",
    "            while Q:\n",
    "                u = hq.heappop(Q)\n",
    "                #print(\"--------------------\")\n",
    "                #print(\"pop :\",u)\n",
    "                current_consumption=u[0]\n",
    "                #print(\"consumption :\",current_consumption)\n",
    "\n",
    "                current_height=mountains_height[u[1][0]][u[1][1]]\n",
    "                seen.add((0, 0))\n",
    "\n",
    "                if u[1] == (n-1, m-1):\n",
    "                    #print(seen)\n",
    "                    return current_consumption\n",
    "\n",
    "\n",
    "                r, c = u[1]\n",
    "                seen.add((r, c))\n",
    "\n",
    "                for rr, cc in [ (r - 1, c),(r + 1, c), (r, c - 1),(r, c + 1)]:  \n",
    "                    if rr < 0 or rr >= n or cc < 0 or cc >= m:\n",
    "                        continue\n",
    "                    if (rr,cc) in seen:\n",
    "                        continue\n",
    "\n",
    "                    next_height=mountains_height[rr][cc]\n",
    "                    if next_height>=current_height:\n",
    "                        consumption=2*(next_height-current_height)\n",
    "                    else:\n",
    "                        consumption=current_height-next_height\n",
    "                    \n",
    "                    \n",
    "                    total_consumption=current_consumption+consumption\n",
    "                    \n",
    "                    if str([rr, cc]) not in dictionary.keys() or total_consumption < dictionary[str([rr, cc])] :\n",
    "                        hq.heappush(Q, ((total_consumption), (rr, cc)))\n",
    "                        dictionary[str([rr, cc])]=total_consumption   \n",
    "                        #print(\"now :\",next_height,((total_consumption), (rr, cc)))\n"
   ]
  },
  {
   "cell_type": "code",
   "execution_count": 50,
   "metadata": {},
   "outputs": [
    {
     "name": "stdout",
     "output_type": "stream",
     "text": [
      "6\n"
     ]
    }
   ],
   "source": [
    "print(Mountains().mountains(\n",
    "        [[3, 4, 5], \n",
    "         [9, 3, 5], \n",
    "         [7, 4, 3]]))\n",
    "    # ans=6"
   ]
  },
  {
   "cell_type": "code",
   "execution_count": 51,
   "metadata": {},
   "outputs": [
    {
     "name": "stdout",
     "output_type": "stream",
     "text": [
      "42\n"
     ]
    }
   ],
   "source": [
    "if __name__ == \"__main__\":\n",
    "    print(Mountains().mountains(\n",
    "        [[ 0, 1, 2, 3, 4], \n",
    "         [24,23,22,21, 5], \n",
    "         [12,13,14,15,16],\n",
    "         [11,17,18,19,20],\n",
    "         [10, 9, 8, 7, 6]]))\n",
    "    # ans=42\n",
    "    "
   ]
  },
  {
   "cell_type": "code",
   "execution_count": 52,
   "metadata": {},
   "outputs": [
    {
     "data": {
      "text/plain": [
       "27"
      ]
     },
     "execution_count": 52,
     "metadata": {},
     "output_type": "execute_result"
    }
   ],
   "source": [
    "Mountains().mountains(\n",
    "        [[30, 5, 5], \n",
    "         [9, 30, 5], \n",
    "         [7, 60, 3]])"
   ]
  },
  {
   "cell_type": "code",
   "execution_count": null,
   "metadata": {},
   "outputs": [],
   "source": []
  },
  {
   "cell_type": "code",
   "execution_count": null,
   "metadata": {},
   "outputs": [],
   "source": []
  },
  {
   "cell_type": "code",
   "execution_count": null,
   "metadata": {},
   "outputs": [],
   "source": []
  }
 ],
 "metadata": {
  "kernelspec": {
   "display_name": "Python 3",
   "language": "python",
   "name": "python3"
  },
  "language_info": {
   "codemirror_mode": {
    "name": "ipython",
    "version": 3
   },
   "file_extension": ".py",
   "mimetype": "text/x-python",
   "name": "python",
   "nbconvert_exporter": "python",
   "pygments_lexer": "ipython3",
   "version": "3.8.3"
  }
 },
 "nbformat": 4,
 "nbformat_minor": 4
}
