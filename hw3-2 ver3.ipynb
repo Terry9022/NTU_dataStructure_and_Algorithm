{
 "cells": [
  {
   "cell_type": "code",
   "execution_count": 44,
   "metadata": {},
   "outputs": [],
   "source": [
    "from typing import List\n",
    "    \n",
    "class Warriors: \n",
    "    def warriors(self, strength :List[int], attack_range :List[int]):\n",
    "        \"\"\"\n",
    "        Given the attributes of each warriors and output the minimal and maximum\n",
    "        index of warrior can be attacked by each warrior.\n",
    "\n",
    "        Parameters:\n",
    "          strength (List[int]): The strength value of N warriors\n",
    "          attack_range (List[int]): The range value of N warriors\n",
    "\n",
    "        Returns:\n",
    "          attack_interval (List[int]):\n",
    "              The min and the max index that the warrior can attack.\n",
    "              The format of output is 2N int array `[a0, b0, a1, b1, ...]`\n",
    "        \"\"\"\n",
    "        \n",
    "        \n",
    "       #prints element and NGE pair for all elements of arr[] \n",
    "        N=len(strength)\n",
    "        n=N-1\n",
    "\n",
    "        \n",
    "        \n",
    "        #找右邊\n",
    "        # Stores the required distances\n",
    "        ans1 = list(range(N))\n",
    "        st = [0]\n",
    "        \n",
    "        # Maintain a stack of elements\n",
    "        # in non-increasing order\n",
    "        for i in range(1, N):  \n",
    "\n",
    "            # If the current element exceeds \n",
    "            # the element at the top of the stack\n",
    "            while(st and strength[i] >= strength[st[-1]]):  \n",
    "                pos = st.pop()\n",
    "                \n",
    "                if attack_range[pos] < i-1-pos:\n",
    "                    ans1[pos]=pos+attack_range[pos]\n",
    "                else:\n",
    "                    ans1[pos] = i-1\n",
    "\n",
    "            # Push the current index to the stack\n",
    "            st.append(i)\n",
    "            \n",
    "        while(len(st)!=0):\n",
    "            pos = st.pop()\n",
    "            if attack_range[pos] < N-1-pos:\n",
    "                ans1[pos]=pos+attack_range[pos]\n",
    "            else:\n",
    "                ans1[pos] = N-1\n",
    "                \n",
    "        # 找左邊       \n",
    "        # Stores the required distances\n",
    "        strength.reverse()\n",
    "        attack_range.reverse()\n",
    "        \n",
    "        ans2 = list(range(N))\n",
    "        st = [0]\n",
    "        \n",
    "        # Maintain a stack of elements\n",
    "        # in non-increasing order\n",
    "        for i in range(1, N):  \n",
    "\n",
    "            # If the current element exceeds \n",
    "            # the element at the top of the stack\n",
    "            while(st and strength[i] >= strength[st[-1]]):  \n",
    "                pos = st.pop()\n",
    "                \n",
    "                if attack_range[pos] < i-1-pos:\n",
    "                    ans2[n-pos]=n-(pos+attack_range[pos])\n",
    "                else:\n",
    "                    ans2[n-pos] =n-( i-1)\n",
    "\n",
    "            # Push the current index to the stack\n",
    "            st.append(i)\n",
    "            \n",
    "        while(len(st)!=0):\n",
    "            pos = st.pop()\n",
    "            if attack_range[pos] < N-1-pos:\n",
    "                ans2[n-pos]= n-(pos+attack_range[pos])\n",
    "            else:\n",
    "                ans2[n-pos] = n-(N-1)\n",
    "        \n",
    "        ans3=[]\n",
    "        for i in range(N):\n",
    "            ans3.append(ans2[i])\n",
    "            ans3.append(ans1[i])\n",
    "            \n",
    "            \n",
    "\n",
    "            \n",
    "        return ans3"
   ]
  },
  {
   "cell_type": "code",
   "execution_count": 49,
   "metadata": {},
   "outputs": [
    {
     "name": "stdout",
     "output_type": "stream",
     "text": [
      "[0, 0, 0, 3, 2, 3, 3, 3, 2, 4]\n"
     ]
    }
   ],
   "source": [
    "if __name__ == \"__main__\":\n",
    "    sol = Warriors()\n",
    "    print(sol.warriors([13, 15, 11, 7, 15],\n",
    "                       [ 3,  8,  1, 7,  2]))\n",
    " # Output [0, 0, 0, 3, 2, 3, 3, 3, 2, 4]"
   ]
  },
  {
   "cell_type": "code",
   "execution_count": 16,
   "metadata": {},
   "outputs": [
    {
     "name": "stdout",
     "output_type": "stream",
     "text": [
      "([2, 1, 2, 4, 4], [0, 1, 1, 1, 4])\n"
     ]
    }
   ],
   "source": [
    "if __name__ == \"__main__\":\n",
    "    sol = Warriors()\n",
    "    print(sol.warriors(a,b))\n",
    "    \n",
    " # Output [0, 0, 0, 3, 2, 3, 3, 3, 2, 4]"
   ]
  },
  {
   "cell_type": "code",
   "execution_count": 4,
   "metadata": {},
   "outputs": [],
   "source": [
    "a=[11, 13, 11, 7, 15]\n",
    "b=[ 1,  8,  1, 7,  2]"
   ]
  },
  {
   "cell_type": "code",
   "execution_count": 5,
   "metadata": {},
   "outputs": [],
   "source": [
    "a.reverse()\n",
    "b.reverse()"
   ]
  },
  {
   "cell_type": "code",
   "execution_count": 6,
   "metadata": {},
   "outputs": [
    {
     "data": {
      "text/plain": [
       "[15, 7, 11, 13, 11]"
      ]
     },
     "execution_count": 6,
     "metadata": {},
     "output_type": "execute_result"
    }
   ],
   "source": [
    "a"
   ]
  },
  {
   "cell_type": "code",
   "execution_count": 7,
   "metadata": {},
   "outputs": [
    {
     "data": {
      "text/plain": [
       "[2, 7, 1, 8, 1]"
      ]
     },
     "execution_count": 7,
     "metadata": {},
     "output_type": "execute_result"
    }
   ],
   "source": [
    "b"
   ]
  }
 ],
 "metadata": {
  "kernelspec": {
   "display_name": "Python 3",
   "language": "python",
   "name": "python3"
  },
  "language_info": {
   "codemirror_mode": {
    "name": "ipython",
    "version": 3
   },
   "file_extension": ".py",
   "mimetype": "text/x-python",
   "name": "python",
   "nbconvert_exporter": "python",
   "pygments_lexer": "ipython3",
   "version": "3.8.3"
  }
 },
 "nbformat": 4,
 "nbformat_minor": 4
}
