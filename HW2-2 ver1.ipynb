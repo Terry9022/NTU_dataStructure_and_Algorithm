{
 "cells": [
  {
   "cell_type": "code",
   "execution_count": 404,
   "metadata": {},
   "outputs": [],
   "source": [
    "class Percolation:\n",
    "    def __init__(self, N :int):\n",
    "        \"\"\" Create N-by-N grid, with all sites blocked \"\"\"\n",
    "        \n",
    "        \n",
    "        id_column=[]\n",
    "        list_percolation_column=[]\n",
    "        for i in range(N*N):\n",
    "            id_column.append(i)\n",
    "            list_percolation_column.append(0)\n",
    "            \n",
    "        self.matrix=list_percolation_column\n",
    "        self.id=id_column\n",
    "        self.N=N\n",
    "        \n",
    "\n",
    "    def open(self, i :int, j :int):\n",
    "        \"\"\" Open site (row i, column j) if it is not open already \"\"\"\n",
    "        self.matrix[i][j]=1\n",
    "        N=self.N\n",
    "        if (i==0) and (j==0):\n",
    "            if self.matrix[i+1][j]==1:  # Down\n",
    "                self.union(N*i+j,  N*(i+1)+j )\n",
    "            if self.matrix[i][j+1]==1:  # Right\n",
    "                self.union( N*i+j,  N*(i)+(j+1))\n",
    "        elif (i==0) and (j==N-1):\n",
    "            if self.matrix[i+1][j]==1:  # Down\n",
    "                self.union( N*i+j,  N*(i+1)+j )\n",
    "            if self.matrix[i][j-1]==1:  # Left\n",
    "                self.union( N*i+j,  N*(i)+(j-1))\n",
    "        elif (i==N-1) and (j==0):\n",
    "            if self.matrix[i][j+1]==1:  # Right\n",
    "                self.union( N*i+j,  N*(i)+(j+1))\n",
    "            if self.matrix[i-1][j]==1:  # Up\n",
    "                self.union( N*i+j,  N*(i-1)+j )\n",
    "        elif (i==N-1) and (j==N-1):\n",
    "            if self.matrix[i][j-1]==1:  # Left\n",
    "                self.union( N*i+j,  N*(i)+(j-1))\n",
    "            if self.matrix[i-1][j]==1:  # Up\n",
    "                self.union( N*i+j,  N*(i-1)+j )\n",
    "        elif i==0:  #first row \n",
    "            if self.matrix[i+1][j]==1:  # Down\n",
    "                self.union(N*i+j,  N*(i+1)+j )\n",
    "            if self.matrix[i][j+1]==1:  # Right\n",
    "                self.union( N*i+j,  N*(i)+(j+1))\n",
    "            if self.matrix[i][j-1]==1:  # Left\n",
    "                self.union( N*i+j,  N*(i)+(j-1))\n",
    "        elif j==0:  #first column\n",
    "            if self.matrix[i+1][j]==1:  # Down\n",
    "                self.union(N*i+j,  N*(i+1)+j )\n",
    "            if self.matrix[i][j+1]==1:  # Right\n",
    "                self.union( N*i+j,  N*(i)+(j+1))\n",
    "            if self.matrix[i-1][j]==1:  # Up\n",
    "                self.union( N*i+j,  N*(i-1)+j )\n",
    "        elif i==N-1:  #last row\n",
    "            if self.matrix[i][j+1]==1:  # Right\n",
    "                self.union( N*i+j,  N*(i)+(j+1))\n",
    "            if self.matrix[i][j-1]==1:  # Left\n",
    "                self.union( N*i+j,  N*(i)+(j-1))\n",
    "            if self.matrix[i-1][j]==1:  # Up\n",
    "                self.union( N*i+j,  N*(i-1)+j )\n",
    "        elif j==N-1:   #last column\n",
    "            if self.matrix[i][j-1]==1:  # Left\n",
    "                self.union( N*i+j,  N*(i)+(j-1))\n",
    "            if self.matrix[i-1][j]==1:  # Up\n",
    "                self.union( N*i+j,  N*(i-1)+j )\n",
    "            if self.matrix[i+1][j]==1:  # Down\n",
    "                self.union(N*i+j,  N*(i+1)+j )\n",
    "        else:\n",
    "\n",
    "            if self.matrix[i+1][j]==1:  # Down\n",
    "                self.union(N*i+j,  N*(i+1)+j )\n",
    "            if self.matrix[i][j+1]==1:  # Right\n",
    "                self.union( N*i+j,  N*(i)+(j+1))\n",
    "            if self.matrix[i][j-1]==1:  # Left\n",
    "                self.union( N*i+j,  N*(i)+(j-1))\n",
    "            if self.matrix[i-1][j]==1:  # Up\n",
    "                self.union( N*i+j,  N*(i-1)+j )\n",
    "                \n",
    "\n",
    "    def isOpen(self, i :int, j :int) -> bool:\n",
    "        \"\"\" Is site (row i, column j) open? \"\"\"\n",
    "        if self.matrix[i][j]==1:\n",
    "            return True\n",
    "        else:\n",
    "            return False\n",
    "        \n",
    "    def root(self,i ):\n",
    "        while (i != self.id[i]):\n",
    "            self.id[i] = self.id[self.id[i]]\n",
    "            i = self.id[i]\n",
    "        return i\n",
    "    \n",
    "    def boolean_connected(self,p,  q):\n",
    "        return self.root(p) == self.root(q)\n",
    "    \n",
    "    def union(self,p,q):    # point p to q\n",
    "        i = self.root(p)\n",
    "        j = self.root(q)\n",
    "        self.id[i] = j\n",
    "        \n",
    "        \n",
    "    def isFull(self, i :int, j :int) -> bool:\n",
    "        \"\"\" Is site (row i, column j) full? \"\"\"\n",
    "        isFullorNot = False\n",
    "        N=self.N\n",
    "        id_number= N*i+j\n",
    "        for i in range(N):\n",
    "            if self.boolean_connected(id_number,i):\n",
    "                isFullorNot = True\n",
    "        return isFullorNot\n",
    "            \n",
    "    def percolates(self) -> bool:\n",
    "        \"\"\" Does the system percolate? \"\"\"\n",
    "        isPercolatesorNot = False\n",
    "        N=self.N\n",
    "        for i in range(N):\n",
    "            for j in range(N):\n",
    "                \n",
    "                if self.boolean_connected(j,(N-1)*N+i):\n",
    "                    isPercolatesorNot  = True\n",
    "                \n",
    "        return isPercolatesorNot "
   ]
  },
  {
   "cell_type": "code",
   "execution_count": 405,
   "metadata": {},
   "outputs": [],
   "source": [
    "s = Percolation(3)"
   ]
  },
  {
   "cell_type": "code",
   "execution_count": 406,
   "metadata": {},
   "outputs": [
    {
     "data": {
      "text/plain": [
       "3"
      ]
     },
     "execution_count": 406,
     "metadata": {},
     "output_type": "execute_result"
    }
   ],
   "source": [
    "s.N"
   ]
  },
  {
   "cell_type": "code",
   "execution_count": 407,
   "metadata": {},
   "outputs": [
    {
     "data": {
      "text/plain": [
       "[0, 0, 0, 0, 0, 0, 0, 0, 0]"
      ]
     },
     "execution_count": 407,
     "metadata": {},
     "output_type": "execute_result"
    }
   ],
   "source": [
    "s.matrix"
   ]
  },
  {
   "cell_type": "code",
   "execution_count": 408,
   "metadata": {},
   "outputs": [
    {
     "data": {
      "text/plain": [
       "[0, 1, 2, 3, 4, 5, 6, 7, 8]"
      ]
     },
     "execution_count": 408,
     "metadata": {},
     "output_type": "execute_result"
    }
   ],
   "source": [
    "s.id"
   ]
  },
  {
   "cell_type": "code",
   "execution_count": 409,
   "metadata": {},
   "outputs": [
    {
     "data": {
      "text/plain": [
       "True"
      ]
     },
     "execution_count": 409,
     "metadata": {},
     "output_type": "execute_result"
    }
   ],
   "source": [
    "s.isFull(1,0)"
   ]
  },
  {
   "cell_type": "code",
   "execution_count": 410,
   "metadata": {},
   "outputs": [
    {
     "data": {
      "text/plain": [
       "True"
      ]
     },
     "execution_count": 410,
     "metadata": {},
     "output_type": "execute_result"
    }
   ],
   "source": [
    "s.percolates()"
   ]
  },
  {
   "cell_type": "code",
   "execution_count": 411,
   "metadata": {},
   "outputs": [],
   "source": [
    "s.open(0,0)"
   ]
  },
  {
   "cell_type": "code",
   "execution_count": 412,
   "metadata": {},
   "outputs": [],
   "source": [
    "s.open(0,1)"
   ]
  },
  {
   "cell_type": "code",
   "execution_count": 413,
   "metadata": {},
   "outputs": [],
   "source": [
    "s.open(0,2)"
   ]
  },
  {
   "cell_type": "code",
   "execution_count": 414,
   "metadata": {},
   "outputs": [],
   "source": [
    "s.open(1,0)"
   ]
  },
  {
   "cell_type": "code",
   "execution_count": 415,
   "metadata": {},
   "outputs": [],
   "source": [
    "s.open(1,1)"
   ]
  },
  {
   "cell_type": "code",
   "execution_count": 416,
   "metadata": {},
   "outputs": [],
   "source": [
    "s.open(1,2)"
   ]
  },
  {
   "cell_type": "code",
   "execution_count": 417,
   "metadata": {},
   "outputs": [],
   "source": [
    "s.open(2,0)"
   ]
  },
  {
   "cell_type": "code",
   "execution_count": 418,
   "metadata": {},
   "outputs": [],
   "source": [
    "s.open(2,1)"
   ]
  },
  {
   "cell_type": "code",
   "execution_count": 419,
   "metadata": {},
   "outputs": [],
   "source": [
    "s.open(2,2)"
   ]
  },
  {
   "cell_type": "code",
   "execution_count": 420,
   "metadata": {},
   "outputs": [
    {
     "data": {
      "text/plain": [
       "True"
      ]
     },
     "execution_count": 420,
     "metadata": {},
     "output_type": "execute_result"
    }
   ],
   "source": [
    "s.isOpen(1,2)"
   ]
  },
  {
   "cell_type": "code",
   "execution_count": 421,
   "metadata": {},
   "outputs": [
    {
     "data": {
      "text/plain": [
       "True"
      ]
     },
     "execution_count": 421,
     "metadata": {},
     "output_type": "execute_result"
    }
   ],
   "source": [
    "s.boolean_connected(3,  5)"
   ]
  },
  {
   "cell_type": "code",
   "execution_count": 422,
   "metadata": {},
   "outputs": [
    {
     "ename": "IndexError",
     "evalue": "list index out of range",
     "output_type": "error",
     "traceback": [
      "\u001b[0;31m---------------------------------------------------------------------------\u001b[0m",
      "\u001b[0;31mIndexError\u001b[0m                                Traceback (most recent call last)",
      "\u001b[0;32m<ipython-input-422-e17afd9fc018>\u001b[0m in \u001b[0;36m<module>\u001b[0;34m\u001b[0m\n\u001b[0;32m----> 1\u001b[0;31m \u001b[0ms\u001b[0m\u001b[0;34m.\u001b[0m\u001b[0mroot\u001b[0m\u001b[0;34m(\u001b[0m\u001b[0;36m9\u001b[0m\u001b[0;34m)\u001b[0m\u001b[0;34m\u001b[0m\u001b[0;34m\u001b[0m\u001b[0m\n\u001b[0m",
      "\u001b[0;32m<ipython-input-404-de0fd7157889>\u001b[0m in \u001b[0;36mroot\u001b[0;34m(self, i)\u001b[0m\n\u001b[1;32m     45\u001b[0m     \u001b[0;32mdef\u001b[0m \u001b[0mroot\u001b[0m\u001b[0;34m(\u001b[0m\u001b[0mself\u001b[0m\u001b[0;34m,\u001b[0m\u001b[0mi\u001b[0m \u001b[0;34m)\u001b[0m\u001b[0;34m:\u001b[0m\u001b[0;34m\u001b[0m\u001b[0;34m\u001b[0m\u001b[0m\n\u001b[1;32m     46\u001b[0m         \u001b[0mj\u001b[0m \u001b[0;34m=\u001b[0m \u001b[0mi\u001b[0m\u001b[0;34m\u001b[0m\u001b[0;34m\u001b[0m\u001b[0m\n\u001b[0;32m---> 47\u001b[0;31m         \u001b[0;32mwhile\u001b[0m \u001b[0;34m(\u001b[0m\u001b[0mj\u001b[0m \u001b[0;34m!=\u001b[0m \u001b[0mself\u001b[0m\u001b[0;34m.\u001b[0m\u001b[0mid\u001b[0m\u001b[0;34m[\u001b[0m\u001b[0mj\u001b[0m\u001b[0;34m]\u001b[0m\u001b[0;34m)\u001b[0m\u001b[0;34m:\u001b[0m\u001b[0;34m\u001b[0m\u001b[0;34m\u001b[0m\u001b[0m\n\u001b[0m\u001b[1;32m     48\u001b[0m             \u001b[0mself\u001b[0m\u001b[0;34m.\u001b[0m\u001b[0mid\u001b[0m\u001b[0;34m[\u001b[0m\u001b[0mj\u001b[0m\u001b[0;34m]\u001b[0m \u001b[0;34m=\u001b[0m \u001b[0mself\u001b[0m\u001b[0;34m.\u001b[0m\u001b[0mid\u001b[0m\u001b[0;34m[\u001b[0m\u001b[0mself\u001b[0m\u001b[0;34m.\u001b[0m\u001b[0mid\u001b[0m\u001b[0;34m[\u001b[0m\u001b[0mj\u001b[0m\u001b[0;34m]\u001b[0m\u001b[0;34m]\u001b[0m\u001b[0;34m\u001b[0m\u001b[0;34m\u001b[0m\u001b[0m\n\u001b[1;32m     49\u001b[0m             \u001b[0mj\u001b[0m \u001b[0;34m=\u001b[0m \u001b[0mself\u001b[0m\u001b[0;34m.\u001b[0m\u001b[0mid\u001b[0m\u001b[0;34m[\u001b[0m\u001b[0mj\u001b[0m\u001b[0;34m]\u001b[0m\u001b[0;34m\u001b[0m\u001b[0;34m\u001b[0m\u001b[0m\n",
      "\u001b[0;31mIndexError\u001b[0m: list index out of range"
     ]
    }
   ],
   "source": [
    "s.root(9)"
   ]
  },
  {
   "cell_type": "code",
   "execution_count": 424,
   "metadata": {},
   "outputs": [
    {
     "name": "stdout",
     "output_type": "stream",
     "text": [
      "False\n",
      "True\n",
      "True\n",
      "True\n",
      "True\n",
      "True\n",
      "True\n",
      "True\n",
      "True\n",
      "True\n",
      "True\n"
     ]
    }
   ],
   "source": [
    "s = Percolation(3)\n",
    "s.open(1,1)\n",
    "print(s.isFull(1, 1)) \n",
    "print(s.percolates())\n",
    "s.open(0,1)\n",
    "s.open(2,0)\n",
    "print(s.isFull(1, 1)) \n",
    "print(s.isFull(0, 1)) \n",
    "print(s.isFull(2, 0)) \n",
    "print(s.percolates())\n",
    "s.open(2,1)\n",
    "print(s.isFull(1, 1)) \n",
    "print(s.isFull(0, 1)) \n",
    "print(s.isFull(2, 0)) \n",
    "print(s.isFull(2, 1)) \n",
    "print(s.percolates())"
   ]
  },
  {
   "cell_type": "code",
   "execution_count": null,
   "metadata": {},
   "outputs": [],
   "source": []
  },
  {
   "cell_type": "code",
   "execution_count": null,
   "metadata": {},
   "outputs": [],
   "source": []
  }
 ],
 "metadata": {
  "kernelspec": {
   "display_name": "Python 3",
   "language": "python",
   "name": "python3"
  },
  "language_info": {
   "codemirror_mode": {
    "name": "ipython",
    "version": 3
   },
   "file_extension": ".py",
   "mimetype": "text/x-python",
   "name": "python",
   "nbconvert_exporter": "python",
   "pygments_lexer": "ipython3",
   "version": "3.8.3"
  }
 },
 "nbformat": 4,
 "nbformat_minor": 2
}
