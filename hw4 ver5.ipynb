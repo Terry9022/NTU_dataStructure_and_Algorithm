{
 "cells": [
  {
   "cell_type": "code",
   "execution_count": 37,
   "metadata": {},
   "outputs": [],
   "source": [
    "from typing import List\n",
    "import math\n",
    "\n",
    "        \n",
    "def distance_to_line(self, p1, p2):\n",
    "    x_diff = p2[0] - p1[0]\n",
    "    y_diff = p2[1] - p1[1]\n",
    "    P_x = self[0] - p1[0]\n",
    "    P_y = self[1] - p1[1]\n",
    "    num = abs(y_diff*P_x - x_diff*P_y )\n",
    "    den = math.sqrt(y_diff**2 + x_diff**2)\n",
    "    return num / den\n",
    "\n",
    "\n",
    "    \n",
    "class Airport:\n",
    "    def airport(self, houses: List[List[int]]) -> float:\n",
    "        self.houses = houses\n",
    "        self._hull_points = []\n",
    "        if not self._hull_points :\n",
    "            ans=self.get_convexhull(self.houses)\n",
    "        \"\"\"\n",
    "        Find the best place to build airport and\n",
    "        calculate the average distance from all the house to airport\n",
    "\n",
    "        Parameters:\n",
    "            houses(list[list[int]]): List of houses.\n",
    "                Each house contains [x,y] coordination.\n",
    "\n",
    "        Returns:\n",
    "            distance(float)\n",
    "        \"\"\"\n",
    "        return ans\n",
    "    \n",
    "    def get_convexhull(self, points: List[List[int]]) -> List[List[int]]:\n",
    "    # value of 0 means points are colinear; < 0, cw; > 0, ccw\n",
    "    # CCW implement\n",
    "        def ccw(p1, p2, p3):\n",
    "            return (p2[0] - p1[0])*(p3[1] - p1[1]) - (p2[1] - p1[1])*(p3[0] - p1[0])\n",
    "\n",
    "        # Computes slope of line between p1 and p2\n",
    "        def slope(p1, p2):\n",
    "            return 1.0*(p1[1]-p2[1])/(p1[0]-p2[0]) if p1[0] != p2[0] else float('inf')\n",
    "\n",
    "        # distance of p1 and p2\n",
    "        def dis(p1, p2):\n",
    "            return ((p1[0]-p2[0])**2+(p1[1]-p2[1])**2)**0.5\n",
    "    \n",
    "        # Find the smallest left point and remove it from points\n",
    "        start = self.houses[0]\n",
    "        for p in self.houses[1:]:\n",
    "            if p[0] < start[0]:\n",
    "                start = p\n",
    "            elif p[0] == start[0] and p[1] < start[1]:\n",
    "                start = p\n",
    "                \n",
    "        self.houses.remove(start)\n",
    "\n",
    "        # Sort points so that traversal is from start in a ccw circle.\n",
    "        points_slopes = [(p, slope(p, start)) for p in self.houses]\n",
    "        points_slopes.sort(key=lambda e: e[1])\n",
    "        points = []\n",
    "        i = 0\n",
    "        for j in range(1,len(points_slopes)):\n",
    "            if points_slopes[j][1] != points_slopes[i][1]:\n",
    "                if j-i == 1:\n",
    "                    points.append(points_slopes[i])\n",
    "                else:\n",
    "                    #if the slpoe of i,j points are the same \n",
    "                    points_cl = sorted(points_slopes[i:j], key=lambda e: dis(start, e[0]))\n",
    "                    points.extend(points_cl)\n",
    "                i = j\n",
    "        #if the slope of the last  points are the same \n",
    "        points_cl = sorted(points_slopes[i:], key=lambda e: -dis(start, e[0]))\n",
    "        points.extend(points_cl)\n",
    "        #print(\"points\",points)\n",
    "        points = [p[0] for p in points]\n",
    "\n",
    "    # Add each point to the convex hull.\n",
    "    # If the last 3 points make a cw turn, the second to last point is wrong. \n",
    "        ans = [start]\n",
    "        for p in points:\n",
    "            ans.append(p)\n",
    "            while len(ans) > 2 and ccw(ans[-3], ans[-2], ans[-1]) < 0:\n",
    "                #pop the wrong point\n",
    "                ans.pop(-2)\n",
    "        self._hull_points = ans\n",
    "        \n",
    "        ans=self._hull_points \n",
    "  \n",
    "    \n",
    "        if ans==0:\n",
    "            return 0\n",
    "        \n",
    "        \n",
    "        addx = 0\n",
    "        addy = 0\n",
    "        eqlen = len(self.houses)\n",
    "        for i in self.houses :\n",
    "            addx = addx + i[0]\n",
    "            addy = addy + i[1]\n",
    "        eqpoint = [addx/eqlen,addy/eqlen]\n",
    "        \n",
    "        \n",
    "        \n",
    "        min_distance=9999999999999\n",
    "        \n",
    "        for i in range(len(ans)-1):\n",
    "            total_distance = distance_to_line(eqpoint,ans[i],ans[i+1])\n",
    "            if total_distance < min_distance :\n",
    "                min_distance=total_distance\n",
    "        #line between last point and start point \n",
    "        total_distance = distance_to_line(eqpoint,ans[0],ans[-1])\n",
    "\n",
    "        if total_distance < min_distance :\n",
    "            min_distance=total_distance\n",
    "        \n",
    "        \n",
    "        return min_distance\n",
    "\n",
    " "
   ]
  },
  {
   "cell_type": "code",
   "execution_count": 38,
   "metadata": {},
   "outputs": [],
   "source": [
    "ans=Airport().airport([[1,1],[2,2],[0,2],[2,0],[2,4],[3,3],[4,2],[4,1],[4,0]])"
   ]
  },
  {
   "cell_type": "code",
   "execution_count": 39,
   "metadata": {},
   "outputs": [
    {
     "data": {
      "text/plain": [
       "1.1490485194281397"
      ]
     },
     "execution_count": 39,
     "metadata": {},
     "output_type": "execute_result"
    }
   ],
   "source": [
    "ans"
   ]
  },
  {
   "cell_type": "code",
   "execution_count": 31,
   "metadata": {},
   "outputs": [
    {
     "ename": "AttributeError",
     "evalue": "'float' object has no attribute '_hull_points'",
     "output_type": "error",
     "traceback": [
      "\u001b[0;31m---------------------------------------------------------------------------\u001b[0m",
      "\u001b[0;31mAttributeError\u001b[0m                            Traceback (most recent call last)",
      "\u001b[0;32m<ipython-input-31-cd85601693df>\u001b[0m in \u001b[0;36m<module>\u001b[0;34m\u001b[0m\n\u001b[0;32m----> 1\u001b[0;31m \u001b[0mAirport\u001b[0m\u001b[0;34m(\u001b[0m\u001b[0;34m)\u001b[0m\u001b[0;34m.\u001b[0m\u001b[0mairport\u001b[0m\u001b[0;34m(\u001b[0m\u001b[0;34m[\u001b[0m\u001b[0;34m[\u001b[0m\u001b[0;36m1\u001b[0m\u001b[0;34m,\u001b[0m\u001b[0;36m1\u001b[0m\u001b[0;34m]\u001b[0m\u001b[0;34m,\u001b[0m\u001b[0;34m[\u001b[0m\u001b[0;36m2\u001b[0m\u001b[0;34m,\u001b[0m\u001b[0;36m2\u001b[0m\u001b[0;34m]\u001b[0m\u001b[0;34m,\u001b[0m\u001b[0;34m[\u001b[0m\u001b[0;36m0\u001b[0m\u001b[0;34m,\u001b[0m\u001b[0;36m2\u001b[0m\u001b[0;34m]\u001b[0m\u001b[0;34m,\u001b[0m\u001b[0;34m[\u001b[0m\u001b[0;36m2\u001b[0m\u001b[0;34m,\u001b[0m\u001b[0;36m0\u001b[0m\u001b[0;34m]\u001b[0m\u001b[0;34m,\u001b[0m\u001b[0;34m[\u001b[0m\u001b[0;36m2\u001b[0m\u001b[0;34m,\u001b[0m\u001b[0;36m4\u001b[0m\u001b[0;34m]\u001b[0m\u001b[0;34m,\u001b[0m\u001b[0;34m[\u001b[0m\u001b[0;36m3\u001b[0m\u001b[0;34m,\u001b[0m\u001b[0;36m3\u001b[0m\u001b[0;34m]\u001b[0m\u001b[0;34m,\u001b[0m\u001b[0;34m[\u001b[0m\u001b[0;36m4\u001b[0m\u001b[0;34m,\u001b[0m\u001b[0;36m2\u001b[0m\u001b[0;34m]\u001b[0m\u001b[0;34m,\u001b[0m\u001b[0;34m[\u001b[0m\u001b[0;36m4\u001b[0m\u001b[0;34m,\u001b[0m\u001b[0;36m1\u001b[0m\u001b[0;34m]\u001b[0m\u001b[0;34m,\u001b[0m\u001b[0;34m[\u001b[0m\u001b[0;36m4\u001b[0m\u001b[0;34m,\u001b[0m\u001b[0;36m0\u001b[0m\u001b[0;34m]\u001b[0m\u001b[0;34m]\u001b[0m\u001b[0;34m)\u001b[0m\u001b[0;34m.\u001b[0m\u001b[0m_hull_points\u001b[0m\u001b[0;34m\u001b[0m\u001b[0;34m\u001b[0m\u001b[0m\n\u001b[0m",
      "\u001b[0;31mAttributeError\u001b[0m: 'float' object has no attribute '_hull_points'"
     ]
    }
   ],
   "source": [
    "Airport().airport([[1,1],[2,2],[0,2],[2,0],[2,4],[3,3],[4,2],[4,1],[4,0]])._hull_points"
   ]
  },
  {
   "cell_type": "code",
   "execution_count": 32,
   "metadata": {},
   "outputs": [
    {
     "name": "stdout",
     "output_type": "stream",
     "text": [
      "0.0\n",
      "0.0\n",
      "0.75\n",
      "1.1490485194281397\n"
     ]
    }
   ],
   "source": [
    "if __name__ == \"__main__\":\n",
    "    print(Airport().airport([[0,0],[1,0]]))\n",
    "    \"\"\"\n",
    "    0.0\n",
    "    \"\"\"\n",
    "    print(Airport().airport([[0,0],[1,0],[0,1]]))\n",
    "    \"\"\"\n",
    "    *.\n",
    "    **\n",
    "    # Convex: [[0, 0], [1, 0], [0, 1]]\n",
    "    0.2357022603955159\n",
    "    \"\"\"\n",
    "    print(Airport().airport([[0,0],[2,0],[0,2],[1,1],[2,2]]))\n",
    "    \"\"\"\n",
    "    *.*\n",
    "    .*.\n",
    "    *.*\n",
    "    # Convex: [[0, 0], [2, 0], [2, 2], [0, 2]]\n",
    "    1.0\n",
    "    \"\"\"\n",
    "    print(Airport().airport([[1,1],[2,2],[0,2],[2,0],[2,4],[3,3],[4,2],[4,1],[4,0]]))\n",
    "    \"\"\"\n",
    "    ..*..\n",
    "    ...*.\n",
    "    *.*.*\n",
    "    .*..*\n",
    "    ..*.*\n",
    "    # Convex: [[0, 2], [2, 0], [4, 0], [4, 2], [2, 4]]\n",
    "    1.3356461422412562\n",
    "    \"\"\""
   ]
  },
  {
   "cell_type": "code",
   "execution_count": null,
   "metadata": {},
   "outputs": [],
   "source": []
  },
  {
   "cell_type": "code",
   "execution_count": null,
   "metadata": {},
   "outputs": [],
   "source": []
  },
  {
   "cell_type": "code",
   "execution_count": null,
   "metadata": {},
   "outputs": [],
   "source": []
  }
 ],
 "metadata": {
  "kernelspec": {
   "display_name": "Python 3",
   "language": "python",
   "name": "python3"
  },
  "language_info": {
   "codemirror_mode": {
    "name": "ipython",
    "version": 3
   },
   "file_extension": ".py",
   "mimetype": "text/x-python",
   "name": "python",
   "nbconvert_exporter": "python",
   "pygments_lexer": "ipython3",
   "version": "3.8.3"
  }
 },
 "nbformat": 4,
 "nbformat_minor": 4
}
