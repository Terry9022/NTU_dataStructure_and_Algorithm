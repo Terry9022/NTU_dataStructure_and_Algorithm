{
 "cells": [
  {
   "cell_type": "code",
   "execution_count": 128,
   "metadata": {},
   "outputs": [],
   "source": [
    "from typing import List\n",
    "import heapq\n",
    "\n",
    "class Cluster:\n",
    "    \n",
    "    def euclidean_distance(self, data_point_one, data_point_two):\n",
    "        \"\"\"\n",
    "        euclidean distance: https://en.wikipedia.org/wiki/Euclidean_distance\n",
    "        assume that two data points have same dimension\n",
    "        \"\"\"\n",
    "        \n",
    "        result = 0.0\n",
    "        for i in range(2):\n",
    "            f1 = data_point_one[i]   # feature for data one\n",
    "            f2 = data_point_two[i]   # feature for data two\n",
    "            result += (f1-f2)**2\n",
    "        \n",
    "        return result\n",
    "    \n",
    "    def compute_pairwise_distance(self, dataset):\n",
    "        result = []\n",
    "        dataset_size = len(dataset)\n",
    "        for i in range(dataset_size-1):    # ignore last i\n",
    "            for j in range(i+1, dataset_size):     # ignore duplication\n",
    "                dist = self.euclidean_distance(dataset[i], dataset[j])\n",
    "                # duplicate dist, need to be remove, and there is no difference to use tuple only\n",
    "                # leave second dist here is to take up a position for tie selection\n",
    "                result.append( (dist, [dataset[i], dataset[j]] )  )\n",
    "\n",
    "        return result\n",
    "\n",
    "    \n",
    "    def compute_centroid(self,  min_item):\n",
    "        total_size = 0\n",
    "        centroid = [0,0]\n",
    "        for item in min_item:\n",
    "            \n",
    "            if str(item) in self.size_dict.keys():\n",
    "                size = self.size_dict[str(item)]\n",
    "            else:\n",
    "                \n",
    "                self.size_dict[str(item)] = 1\n",
    "                size=self.size_dict[str(item)]\n",
    "            \n",
    "\n",
    "            centroid[0] += float(item[0])*size\n",
    "            centroid[1] += float(item[1])*size\n",
    "            \n",
    "            total_size+=size\n",
    "                \n",
    "        centroid[0] /= total_size\n",
    "        centroid[1] /= total_size\n",
    "            \n",
    "        return centroid , total_size\n",
    "    \n",
    " \n",
    "    \n",
    "    def cluster(self, points: List[List[int]], cluster_num: int) -> List[List[float]]:\n",
    "        \"\"\" \n",
    "        Cluster the points to cluster_num clusters.\n",
    "        Output the sorted center coordination of those clusters.\n",
    "        \"\"\" \n",
    "\n",
    "        k = cluster_num\n",
    "        current_clusters = points\n",
    "        self.size_dict = {}\n",
    "        data = self.compute_pairwise_distance(current_clusters)\n",
    "        heapq.heapify(data)\n",
    "        old_clusters = []\n",
    "      \n",
    "        \n",
    "        while len(current_clusters) > k:\n",
    "            \n",
    "            dist, min_item = heapq.heappop(data)\n",
    "            \n",
    "             # judge if include old cluster\n",
    "            first = min_item[0]\n",
    "            second = min_item[1]\n",
    "            if first in old_clusters or second in old_clusters:\n",
    "                continue\n",
    "            \n",
    "            new_cluster_cendroid , new_size = self.compute_centroid(min_item)\n",
    "            \n",
    "           \n",
    "            if str(new_cluster_cendroid) in self.size_dict.keys():\n",
    "                self.size_dict[str(new_cluster_cendroid)]+=1\n",
    "            else:\n",
    "                self.size_dict[str(new_cluster_cendroid)]=new_size\n",
    "                \n",
    "            \n",
    "            old_clusters.append(min_item[0])\n",
    "            old_clusters.append(min_item[1])\n",
    "            \n",
    "            del self.size_dict[str(min_item[0])]\n",
    "            del self.size_dict[str(min_item[1])]\n",
    "            \n",
    "            current_clusters=[i for i in current_clusters if i not in min_item]\n",
    "            \n",
    "            #current_clusters.remove(min_item[0])\n",
    "            #current_clusters.remove(min_item[1])\n",
    "           \n",
    "            \n",
    "            for  value in current_clusters:\n",
    "                dist = self.euclidean_distance(value , new_cluster_cendroid )\n",
    "                heapq.heappush( data, (dist, [value, new_cluster_cendroid])  )  \n",
    "                \n",
    "                \n",
    "            current_clusters.append(new_cluster_cendroid )\n",
    "            \n",
    "            \n",
    "            if new_cluster_cendroid in old_clusters:\n",
    "                old_clusters.remove(new_cluster_cendroid)\n",
    "                \n",
    "        #for i in self.size_dict.keys():\n",
    "            #print( \"size:\",i,self.size_dict[i])\n",
    "        \n",
    "        \n",
    "        \n",
    "        return sorted(current_clusters)\n"
   ]
  },
  {
   "cell_type": "code",
   "execution_count": 129,
   "metadata": {},
   "outputs": [
    {
     "data": {
      "text/plain": [
       "[[2.3333333333333335, 4.333333333333333], [9.5, 3.25], [18, 20]]"
      ]
     },
     "execution_count": 129,
     "metadata": {},
     "output_type": "execute_result"
    }
   ],
   "source": [
    "Cluster().cluster([[0,3], [3,3], [4,7], [9,0], [9,4],[10,4],[10,5],[18,20]], 3)"
   ]
  },
  {
   "cell_type": "code",
   "execution_count": 125,
   "metadata": {},
   "outputs": [
    {
     "data": {
      "text/plain": [
       "[[0.0, 0.5], [1, 0], [3, 0]]"
      ]
     },
     "execution_count": 125,
     "metadata": {},
     "output_type": "execute_result"
    }
   ],
   "source": [
    "Cluster().cluster( [[0,0], [1,0], [3,0], [0,1]], 3)"
   ]
  },
  {
   "cell_type": "code",
   "execution_count": 110,
   "metadata": {},
   "outputs": [],
   "source": [
    "b=[[9, 4], [10, 4], [10, 5], [9.5, 4.0], [0, 3], [3, 3], [9, 0], [9.666666666666666, 4.333333333333333], [4, 7], [1.5, 3.0]]"
   ]
  },
  {
   "cell_type": "code",
   "execution_count": 111,
   "metadata": {},
   "outputs": [],
   "source": [
    "del b[0]"
   ]
  },
  {
   "cell_type": "code",
   "execution_count": 104,
   "metadata": {},
   "outputs": [
    {
     "data": {
      "text/plain": [
       "[[10, 4],\n",
       " [10, 5],\n",
       " [9.5, 4.0],\n",
       " [0, 3],\n",
       " [3, 3],\n",
       " [9, 0],\n",
       " [9.666666666666666, 4.333333333333333],\n",
       " [4, 7],\n",
       " [1.5, 3.0]]"
      ]
     },
     "execution_count": 104,
     "metadata": {},
     "output_type": "execute_result"
    }
   ],
   "source": [
    "b"
   ]
  },
  {
   "cell_type": "code",
   "execution_count": 75,
   "metadata": {},
   "outputs": [
    {
     "name": "stdout",
     "output_type": "stream",
     "text": [
      "[[0.3333333333333333, 0.3333333333333333], [3, 0]]\n",
      "[[1.5, 3.0], [4, 7], [9.0, 2.0]]\n",
      "[[0.0, 1.5], [3.0, 1.5]]\n"
     ]
    }
   ],
   "source": [
    "if __name__ == \"__main__\":\n",
    "    print(Cluster().cluster([[0,0], [1,0], [3,0], [0,1]], 2)) \n",
    "    # [[0.3333333333333333, 0.3333333333333333], [3, 0]] \n",
    "    # [0,0], [1,0], [0,1] are in same cluster\n",
    "    # [3,0] are in another cluster\n",
    "\n",
    "    print(Cluster().cluster([[0,3], [3,3], [4,7], [9,0], [9,4]], 3)) \n",
    "    # [[1.5, 3.0], [4, 7], [9.0, 2.0]]\n",
    "\n",
    "    print(Cluster().cluster([[0,1], [0,2], [3,1], [3,2]], 2)) \n",
    "    # [[0.0, 1.5], [3.0, 1.5]]"
   ]
  },
  {
   "cell_type": "code",
   "execution_count": 24,
   "metadata": {},
   "outputs": [],
   "source": [
    "a= (0,[[4,5],[1,2]] )"
   ]
  },
  {
   "cell_type": "code",
   "execution_count": 30,
   "metadata": {},
   "outputs": [
    {
     "data": {
      "text/plain": [
       "False"
      ]
     },
     "execution_count": 30,
     "metadata": {},
     "output_type": "execute_result"
    }
   ],
   "source": [
    "[4, 2] in a[1]"
   ]
  },
  {
   "cell_type": "code",
   "execution_count": 140,
   "metadata": {},
   "outputs": [],
   "source": [
    "data = [(0,[[4,5][1,2]]),  (8,[9,10]) ,(3,[6,1])]\n"
   ]
  },
  {
   "cell_type": "code",
   "execution_count": 100,
   "metadata": {},
   "outputs": [],
   "source": [
    "heapq.heapify(data)"
   ]
  },
  {
   "cell_type": "code",
   "execution_count": 105,
   "metadata": {},
   "outputs": [
    {
     "data": {
      "text/plain": [
       "True"
      ]
     },
     "execution_count": 105,
     "metadata": {},
     "output_type": "execute_result"
    }
   ],
   "source": [
    "data[0][1][1] not in [3,5] and  data[0][1][0] not in [3,5]"
   ]
  },
  {
   "cell_type": "code",
   "execution_count": null,
   "metadata": {},
   "outputs": [],
   "source": [
    "dist, min_item = heapq.heappop(data)"
   ]
  },
  {
   "cell_type": "code",
   "execution_count": null,
   "metadata": {},
   "outputs": [],
   "source": [
    "min(data )"
   ]
  },
  {
   "cell_type": "code",
   "execution_count": null,
   "metadata": {},
   "outputs": [],
   "source": [
    "dist"
   ]
  },
  {
   "cell_type": "code",
   "execution_count": null,
   "metadata": {},
   "outputs": [],
   "source": [
    "min_item"
   ]
  },
  {
   "cell_type": "code",
   "execution_count": null,
   "metadata": {},
   "outputs": [],
   "source": [
    "data.pop(2)"
   ]
  },
  {
   "cell_type": "code",
   "execution_count": null,
   "metadata": {},
   "outputs": [],
   "source": [
    "data"
   ]
  },
  {
   "cell_type": "code",
   "execution_count": null,
   "metadata": {},
   "outputs": [],
   "source": [
    "a=[[1, 0], [0, 1], [0.5, 0.0]]"
   ]
  },
  {
   "cell_type": "code",
   "execution_count": null,
   "metadata": {},
   "outputs": [],
   "source": [
    "del a.pop([0.5, 0.0])"
   ]
  },
  {
   "cell_type": "code",
   "execution_count": null,
   "metadata": {},
   "outputs": [],
   "source": [
    "9/2"
   ]
  },
  {
   "cell_type": "code",
   "execution_count": null,
   "metadata": {},
   "outputs": [],
   "source": []
  }
 ],
 "metadata": {
  "kernelspec": {
   "display_name": "Python 3",
   "language": "python",
   "name": "python3"
  },
  "language_info": {
   "codemirror_mode": {
    "name": "ipython",
    "version": 3
   },
   "file_extension": ".py",
   "mimetype": "text/x-python",
   "name": "python",
   "nbconvert_exporter": "python",
   "pygments_lexer": "ipython3",
   "version": "3.8.3"
  }
 },
 "nbformat": 4,
 "nbformat_minor": 4
}
