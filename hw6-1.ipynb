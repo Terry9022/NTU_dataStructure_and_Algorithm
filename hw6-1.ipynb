{
 "cells": [
  {
   "cell_type": "code",
   "execution_count": 1,
   "metadata": {},
   "outputs": [],
   "source": [
    "# Class to represent a graph object\n",
    "class Graph:\n",
    "    # Constructor\n",
    "    def __init__(self, edges, N):\n",
    " \n",
    "        # A List of Lists to represent an adjacency list\n",
    "        self.adjList = [[] for _ in range(N)]\n",
    " \n",
    "        # add edges to the undirected graph\n",
    "        for (src, dest) in edges:\n",
    " \n",
    "            self.adjList[src].append(dest)\n",
    "            self.adjList[dest].append(src)\n",
    " \n",
    " \n",
    "# Perform DFS on graph starting from vertex v\n",
    "def DFS(graph, v, discovered, color):\n",
    " \n",
    "    # do for every edge (v -> u)\n",
    "    for u in graph.adjList[v]:\n",
    " \n",
    "        # if vertex u is explored for first time\n",
    "        if not discovered[u]:\n",
    " \n",
    "            # mark current node as discovered\n",
    "            discovered[u] = True\n",
    " \n",
    "            # set color as opposite color of parent node\n",
    "            color[u] = not color[v]\n",
    " \n",
    "            # if DFS on any subtree rooted at v we return False\n",
    "            if not DFS(graph, u, discovered, color):\n",
    "                return False\n",
    " \n",
    "        # if the vertex is already been discovered and color of\n",
    "        # vertex u and v are same, then the graph is not Bipartite\n",
    "        elif color[v] == color[u]:\n",
    "            return False\n",
    " \n",
    "    return True\n",
    " \n",
    " \n",
    "\n"
   ]
  },
  {
   "cell_type": "code",
   "execution_count": 2,
   "metadata": {},
   "outputs": [
    {
     "name": "stdout",
     "output_type": "stream",
     "text": [
      "Not a Bipartite Graph\n"
     ]
    }
   ],
   "source": [
    "if __name__ == '__main__':\n",
    " \n",
    "    # List of graph edges as per above diagram\n",
    "    edges = [\n",
    "        (1, 2), (2, 3), (2, 8), (3, 4), (4, 6), (5, 7), (5, 9), (8, 9), (2, 4)\n",
    "        # if we remove 2->4 edge, graph is becomes Bipartite\n",
    "    ]\n",
    " \n",
    "    # Set number of vertices in the graph\n",
    "    N = 10\n",
    " \n",
    "    # create a graph from edges\n",
    "    graph = Graph(edges, N)\n",
    " \n",
    "    # stores vertex is discovered or not\n",
    "    discovered = [False] * N\n",
    " \n",
    "    # stores color 0 or 1 of each vertex in DFS\n",
    "    color = [False] * N\n",
    " \n",
    "    # mark source vertex as discovered and\n",
    "    # set its color to 0\n",
    "    discovered[0] = True\n",
    "    color[0] = False\n",
    " \n",
    "    # start DFS traversal from any node as graph\n",
    "    # is connected and undirected\n",
    "    if DFS(graph, 1, discovered, color):\n",
    "        print(\"Bipartite Graph\")\n",
    "    else:\n",
    "        print(\"Not a Bipartite Graph\")\n",
    " "
   ]
  },
  {
   "cell_type": "code",
   "execution_count": null,
   "metadata": {},
   "outputs": [],
   "source": []
  },
  {
   "cell_type": "code",
   "execution_count": null,
   "metadata": {},
   "outputs": [],
   "source": [
    "#HW6-1"
   ]
  },
  {
   "cell_type": "code",
   "execution_count": 9,
   "metadata": {},
   "outputs": [],
   "source": [
    "from typing import List\n",
    "import sys \n",
    "sys.setrecursionlimit(100001)\n",
    "\n",
    "# Class to represent a graph object\n",
    "class Graph:\n",
    "    # Constructor\n",
    "    def __init__(self, edges, N):\n",
    " \n",
    "        # A List of Lists to represent an adjacency list\n",
    "        self.adjList = [[] for _ in range(N)]\n",
    " \n",
    "        # add edges to the undirected graph\n",
    "        for (src, dest) in edges:\n",
    " \n",
    "            self.adjList[src].append(dest)\n",
    "            self.adjList[dest].append(src)\n",
    "        \n",
    "# Perform DFS on graph starting from vertex v\n",
    "def DFS(graph, v, discovered, color):\n",
    " \n",
    "    # do for every edge (v -> u)\n",
    "    for u in graph.adjList[v]:\n",
    " \n",
    "        # if vertex u is explored for first time\n",
    "        if not discovered[u]:\n",
    " \n",
    "            # mark current node as discovered\n",
    "            discovered[u] = True\n",
    " \n",
    "            # set color as opposite color of parent node\n",
    "            color[u] = not color[v]\n",
    " \n",
    "            # if DFS on any subtree rooted at v we return False\n",
    "            if not DFS(graph, u, discovered, color):\n",
    "                return False\n",
    " \n",
    "        # if the vertex is already been discovered and color of\n",
    "        # vertex u and v are same, then the graph is not Bipartite\n",
    "        elif color[v] == color[u]:\n",
    "            return False\n",
    " \n",
    "    return True\n",
    "\n",
    "class Teams:\n",
    "    def teams(self, idols: int, teetee: List[List[int]]) -> bool:\n",
    "        \n",
    "        # create a graph from edges\n",
    "        graph = Graph(teetee, idols)\n",
    "        \n",
    "        # stores vertex is discovered or not\n",
    "        discovered = [False] * idols\n",
    "\n",
    "        # stores color 0 or 1 of each vertex in DFS\n",
    "        color = [False] * idols\n",
    "\n",
    "        # mark source vertex as discovered and\n",
    "        # set its color to 0\n",
    "        discovered[0] = True\n",
    "        color[0] = False\n",
    "\n",
    "        # start DFS traversal from any node as graph\n",
    "        # is connected and undirected\n",
    "   \n",
    "        \n",
    "        return DFS(graph, 0, discovered, color)\n",
    "\n",
    "\n"
   ]
  },
  {
   "cell_type": "code",
   "execution_count": 12,
   "metadata": {},
   "outputs": [
    {
     "name": "stdout",
     "output_type": "stream",
     "text": [
      "True\n",
      "False\n"
     ]
    }
   ],
   "source": [
    "if __name__ == \"__main__\":\n",
    "    # example 1: True\n",
    "    print(Teams().teams(4, [[1,3],[2,1],[3,2]]))\n",
    "    # example 1: False\n",
    "    print(Teams().teams(4, [[0,1],[0,3],[0,2],[2,1],[3,2]]))"
   ]
  },
  {
   "cell_type": "code",
   "execution_count": null,
   "metadata": {},
   "outputs": [],
   "source": []
  }
 ],
 "metadata": {
  "kernelspec": {
   "display_name": "Python 3",
   "language": "python",
   "name": "python3"
  },
  "language_info": {
   "codemirror_mode": {
    "name": "ipython",
    "version": 3
   },
   "file_extension": ".py",
   "mimetype": "text/x-python",
   "name": "python",
   "nbconvert_exporter": "python",
   "pygments_lexer": "ipython3",
   "version": "3.8.3"
  }
 },
 "nbformat": 4,
 "nbformat_minor": 4
}
