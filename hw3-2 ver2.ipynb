{
 "cells": [
  {
   "cell_type": "code",
   "execution_count": 175,
   "metadata": {},
   "outputs": [],
   "source": [
    "from typing import List\n",
    "    \n",
    "class Warriors: \n",
    "    def warriors(self, strength :List[int], attack_range :List[int]):\n",
    "        \"\"\"\n",
    "        Given the attributes of each warriors and output the minimal and maximum\n",
    "        index of warrior can be attacked by each warrior.\n",
    "\n",
    "        Parameters:\n",
    "          strength (List[int]): The strength value of N warriors\n",
    "          attack_range (List[int]): The range value of N warriors\n",
    "\n",
    "        Returns:\n",
    "          attack_interval (List[int]):\n",
    "              The min and the max index that the warrior can attack.\n",
    "              The format of output is 2N int array `[a0, b0, a1, b1, ...]`\n",
    "        \"\"\"\n",
    "        \n",
    "        \n",
    "       #prints element and NGE pair for all elements of arr[] \n",
    "        N=len(strength)\n",
    "    \n",
    "        \n",
    "        if N <= 1:\n",
    "            return [0]\n",
    "        \n",
    "        # Stores the required distances\n",
    "        ans1 = list(range(N))\n",
    "        st = [0]\n",
    "        \n",
    "        # Maintain a stack of elements\n",
    "        # in non-increasing order\n",
    "        for i in range(1, N):  \n",
    "\n",
    "            # If the current element exceeds \n",
    "            # the element at the top of the stack\n",
    "            while(st and strength[i] > strength[st[-1]]):  \n",
    "                pos = st.pop()\n",
    "                \n",
    "                if attack_range[pos] < i-pos-1:\n",
    "                    ans1[pos]=pos+attack_range[pos]\n",
    "                else:\n",
    "                    ans1[pos] = i-1\n",
    "\n",
    "            # Push the current index to the stack\n",
    "            st.append(i)\n",
    "            \n",
    "        while(st):\n",
    "            pos = st.pop()\n",
    "            if attack_range[pos] < N-1-pos:\n",
    "                ans1[pos]=pos+attack_range[pos]\n",
    "            else:\n",
    "                ans1[pos] = N-1\n",
    "\n",
    "        return ans1"
   ]
  },
  {
   "cell_type": "code",
   "execution_count": 176,
   "metadata": {},
   "outputs": [
    {
     "name": "stdout",
     "output_type": "stream",
     "text": [
      "[0, 3, 3, 3, 4]\n"
     ]
    }
   ],
   "source": [
    "if __name__ == \"__main__\":\n",
    "    sol = Warriors()\n",
    "    print(sol.warriors([11, 13, 11, 7, 15],\n",
    "                       [ 1,  8,  1, 7,  2]))\n",
    " # Output [0, 0, 0, 3, 2, 3, 3, 3, 2, 4]"
   ]
  },
  {
   "cell_type": "code",
   "execution_count": 177,
   "metadata": {},
   "outputs": [
    {
     "name": "stdout",
     "output_type": "stream",
     "text": [
      "[2, 1, 2, 4, 4]\n"
     ]
    }
   ],
   "source": [
    "if __name__ == \"__main__\":\n",
    "    sol = Warriors()\n",
    "    print(sol.warriors(a,b))\n",
    "    \n",
    " # Output [0, 0, 0, 3, 2, 3, 3, 3, 2, 4]"
   ]
  },
  {
   "cell_type": "code",
   "execution_count": 170,
   "metadata": {},
   "outputs": [],
   "source": [
    "a=[11, 13, 11, 7, 15]\n",
    "b=[ 1,  8,  1, 7,  2]"
   ]
  },
  {
   "cell_type": "code",
   "execution_count": 171,
   "metadata": {},
   "outputs": [],
   "source": [
    "a.reverse()\n",
    "b.reverse()"
   ]
  },
  {
   "cell_type": "code",
   "execution_count": 172,
   "metadata": {},
   "outputs": [
    {
     "data": {
      "text/plain": [
       "[15, 7, 11, 13, 11]"
      ]
     },
     "execution_count": 172,
     "metadata": {},
     "output_type": "execute_result"
    }
   ],
   "source": [
    "a"
   ]
  },
  {
   "cell_type": "code",
   "execution_count": 173,
   "metadata": {},
   "outputs": [
    {
     "data": {
      "text/plain": [
       "[2, 7, 1, 8, 1]"
      ]
     },
     "execution_count": 173,
     "metadata": {},
     "output_type": "execute_result"
    }
   ],
   "source": [
    "b"
   ]
  },
  {
   "cell_type": "code",
   "execution_count": null,
   "metadata": {},
   "outputs": [],
   "source": []
  }
 ],
 "metadata": {
  "kernelspec": {
   "display_name": "Python 3",
   "language": "python",
   "name": "python3"
  },
  "language_info": {
   "codemirror_mode": {
    "name": "ipython",
    "version": 3
   },
   "file_extension": ".py",
   "mimetype": "text/x-python",
   "name": "python",
   "nbconvert_exporter": "python",
   "pygments_lexer": "ipython3",
   "version": "3.8.3"
  }
 },
 "nbformat": 4,
 "nbformat_minor": 4
}
