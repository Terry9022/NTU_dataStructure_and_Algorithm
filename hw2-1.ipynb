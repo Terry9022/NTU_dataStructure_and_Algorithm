{
 "cells": [
  {
   "cell_type": "code",
   "execution_count": 206,
   "metadata": {},
   "outputs": [],
   "source": [
    "from typing import List\n",
    "\n",
    "\n",
    "class BoardGame:\n",
    "    def __init__(self, h :int, w :int):\n",
    "        \"\"\"\n",
    "        Set the width and height of the board\n",
    "        \n",
    "        Parameters:\n",
    "            h (int): The height of the board\n",
    "            w (int): The width of the board\n",
    "        \"\"\"\n",
    "        id_column=list()\n",
    "        list_percolation_column=[]\n",
    "        for i in range(h):\n",
    "            id_row=[]\n",
    "            list_percolation_row=[]\n",
    "            for j in range(w): \n",
    "                id_row.append('.')\n",
    "                list_percolation_row.append('.')\n",
    "                \n",
    "            id_column.append(id_row)\n",
    "            list_percolation_column.append(list_percolation_row)\n",
    "           \n",
    "        self.board=list_percolation_column\n",
    "        self.board2=id_column\n",
    "       \n",
    "        \n",
    "\n",
    "    def putStone(self, x :List[int], y :List[int], stoneType :str):\n",
    "        \"\"\"\n",
    "        Put the stones on (x[0],y[0]), (x[1], y[1]) ...\n",
    "        \n",
    "        We grantee that there are not stones at (x[i],y[i]) on the board.\n",
    "        \n",
    "        Parameters:\n",
    "            x (int): The vertical position of the stone, 0 <= x < h\n",
    "            y (int): The horizotal position of the stone, 0 <= y < w\n",
    "            stoneType (string): The type of the stones to be put ont the board, which has only two values {'O', 'X'}\n",
    "        \"\"\"\n",
    "        for i in range(len(x)):\n",
    "            self.board[x[i]][y[i]]=stoneType\n",
    "            self.board2[x[i]][y[i]]=stoneType\n",
    "            \n",
    "\n",
    "    def surrounded(self, x :int, y :int) -> bool:\n",
    "        \"\"\"\n",
    "        Answer if the stone and its connected stones are surrounded by another type of stones, which means they are qualified to be flipped if we want.\n",
    "        \n",
    "        Parameters:\n",
    "            x (int): The vertical position of the stone, 0 <= x < h\n",
    "            y (int): The horizaontal position of the stone, 0 <= y < w\n",
    "        Returns:\n",
    "            surrounded (bool): can be flipped of not.\n",
    "        \"\"\"\n",
    "     \n",
    "        srttype=self.board[x][y]\n",
    "        self.solve(srttype)\n",
    "        self.numIslands(srttype)\n",
    "        \n",
    "        \n",
    "        if [x,y] in surround:\n",
    "            if  self.board[x+1][y]!=\".\" and self.board[x-1][y]!=\".\"  and self.board[x][y+1]!=\".\"  and self.board[x][y-1]!=\".\" :\n",
    "            \n",
    "                return True\n",
    "            else:\n",
    "                return False\n",
    "        \n",
    "        else:\n",
    "            \n",
    "            return False\n",
    "        \n",
    "        \n",
    "\n",
    "\n",
    "    def getStoneType(self, x :int, y :int) -> str:\n",
    "        \"\"\"\n",
    "        Get the type of the stone at (x,y)\n",
    "            \n",
    "        We grantee that there are stones at (x,y)\n",
    "        \n",
    "        Parameters:\n",
    "            x (int): The vertical position of the stone, 0 <= x < h\n",
    "            y (int): The horizaontal position of the stone, 0 <= y < w\n",
    "        Returns:\n",
    "            stoneType (string): The type of the stones, which has only two value {'O', 'X'}\n",
    "        \"\"\"\n",
    "        stoneType = 'X'\n",
    "        \n",
    "        if matrix[x][y]=='O':\n",
    "            stoneType = 'O'\n",
    "        return stoneType\n",
    "   \n",
    "   \n",
    "    def numIslands(self, strtype):\n",
    "        \"\"\"\n",
    "        :type grid: List[List[str]]\n",
    "        :rtype: int\n",
    "        \"\"\"\n",
    "        self.surround=[]\n",
    "        \n",
    "        if strtype ==\"O\":\n",
    "\n",
    "            self.surround=[]\n",
    "\n",
    "            grid=self.board2\n",
    "            if not grid: return 0\n",
    "            r, c = len(grid), len(grid[0])\n",
    "            visited = [[False for _ in range(c)] for _ in range(r)]\n",
    "\n",
    "            def dfs(i, j):\n",
    "                if i < 0 or i >= r or j < 0 or j >= c or grid[i][j] == 'X' or visited[i][j]:\n",
    "                    return\n",
    "                visited[i][j] = True\n",
    "                dfs(i + 1, j)\n",
    "                dfs(i - 1, j)\n",
    "                dfs(i, j + 1)\n",
    "                dfs(i, j - 1)\n",
    "\n",
    "            count = 0\n",
    "            for i in range(r):\n",
    "                for j in range(c):\n",
    "                    if not visited[i][j] and grid[i][j] == 'O':\n",
    "                        dfs(i, j)\n",
    "                        count += 1\n",
    "                        self.surround.append([i,j])\n",
    "            return count\n",
    "        \n",
    "        elif strtype ==\"X\":\n",
    "            \n",
    "            self.surround=[]\n",
    "\n",
    "            grid=self.board2\n",
    "            if not grid: return 0\n",
    "            r, c = len(grid), len(grid[0])\n",
    "            visited = [[False for _ in range(c)] for _ in range(r)]\n",
    "\n",
    "            def dfs(i, j):\n",
    "                if i < 0 or i >= r or j < 0 or j >= c or grid[i][j] == 'O' or visited[i][j]:\n",
    "                    return\n",
    "                visited[i][j] = True\n",
    "                dfs(i + 1, j)\n",
    "                dfs(i - 1, j)\n",
    "                dfs(i, j + 1)\n",
    "                dfs(i, j - 1)\n",
    "\n",
    "            count = 0\n",
    "            for i in range(r):\n",
    "                for j in range(c):\n",
    "                    if not visited[i][j] and grid[i][j] == 'X':\n",
    "                        dfs(i, j)\n",
    "                        count += 1\n",
    "                        self.surround.append([i,j])\n",
    "            return count\n",
    "    \n",
    "    def solve(self,strtype):\n",
    "        \"\"\"\n",
    "        Do not return anything, modify board in-place instead.\n",
    "        \"\"\"\n",
    "        if strtype==\"O\":\n",
    "            board2=self.board2\n",
    "            if not board2 or not board2[0]:\n",
    "                return\n",
    "            row = len(board2)\n",
    "            col = len(board2[0])\n",
    "\n",
    "            def dfs(i, j):\n",
    "                board2[i][j] = \".\"\n",
    "                for x, y in [(-1, 0), (1, 0), (0, -1), (0, 1)]:\n",
    "                    tmp_i = i + x\n",
    "                    tmp_j = j + y\n",
    "                    if 1 <= tmp_i < row and 1 <= tmp_j < col and board2[tmp_i][tmp_j] == \"O\":\n",
    "                        dfs(tmp_i, tmp_j)\n",
    "\n",
    "            for j in range(col):\n",
    "                # 第一行\n",
    "                if board2[0][j] == \"O\":\n",
    "                    dfs(0, j)\n",
    "                # 最后一行\n",
    "                if board2[row - 1][j] == \"O\":\n",
    "                    dfs(row - 1, j)\n",
    "\n",
    "            for i in range(row):\n",
    "                # 第一列\n",
    "                if board2[i][0] == \"O\":\n",
    "                    dfs(i, 0)\n",
    "                # 最后一列\n",
    "                if board2[i][col-1] == \"O\":\n",
    "                    dfs(i, col - 1)\n",
    "                    \n",
    "        elif strtype==\"X\":\n",
    "            board2=self.board2\n",
    "            if not board2 or not board2[0]:\n",
    "                return\n",
    "            row = len(board2)\n",
    "            col = len(board2[0])\n",
    "\n",
    "            def dfs(i, j):\n",
    "                board2[i][j] = \".\"\n",
    "                for x, y in [(-1, 0), (1, 0), (0, -1), (0, 1)]:\n",
    "                    tmp_i = i + x\n",
    "                    tmp_j = j + y\n",
    "                    if 1 <= tmp_i < row and 1 <= tmp_j < col and board2[tmp_i][tmp_j] == \"X\":\n",
    "                        dfs(tmp_i, tmp_j)\n",
    "\n",
    "            for j in range(col):\n",
    "                # 第一行\n",
    "                if board2[0][j] == \"X\":\n",
    "                    dfs(0, j)\n",
    "                # 最后一行\n",
    "                if board2[row - 1][j] == \"X\":\n",
    "                    dfs(row - 1, j)\n",
    "\n",
    "            for i in range(row):\n",
    "                # 第一列\n",
    "                if board2[i][0] == \"X\":\n",
    "                    dfs(i, 0)\n",
    "                # 最后一列\n",
    "                if board2[i][col-1] == \"X\":\n",
    "                    dfs(i, col - 1)\n",
    "                    "
   ]
  },
  {
   "cell_type": "code",
   "execution_count": 189,
   "metadata": {},
   "outputs": [],
   "source": [
    "g = BoardGame(4, 3)"
   ]
  },
  {
   "cell_type": "code",
   "execution_count": 198,
   "metadata": {},
   "outputs": [
    {
     "data": {
      "text/plain": [
       "[['.', 'X', '.'], ['X', 'O', 'X'], ['O', 'X', '.']]"
      ]
     },
     "execution_count": 198,
     "metadata": {},
     "output_type": "execute_result"
    }
   ],
   "source": [
    "g.board"
   ]
  },
  {
   "cell_type": "code",
   "execution_count": 199,
   "metadata": {},
   "outputs": [
    {
     "data": {
      "text/plain": [
       "[['.', '.', '.'], ['.', 'O', '.'], ['.', '.', '.']]"
      ]
     },
     "execution_count": 199,
     "metadata": {},
     "output_type": "execute_result"
    }
   ],
   "source": [
    "g.board2"
   ]
  },
  {
   "cell_type": "code",
   "execution_count": 187,
   "metadata": {},
   "outputs": [
    {
     "data": {
      "text/plain": [
       "[[1, 1]]"
      ]
     },
     "execution_count": 187,
     "metadata": {},
     "output_type": "execute_result"
    }
   ],
   "source": [
    "g.surround"
   ]
  },
  {
   "cell_type": "code",
   "execution_count": 179,
   "metadata": {},
   "outputs": [],
   "source": [
    "g.numIslands(board)"
   ]
  },
  {
   "cell_type": "code",
   "execution_count": 158,
   "metadata": {},
   "outputs": [],
   "source": [
    "g.solve(board)"
   ]
  },
  {
   "cell_type": "code",
   "execution_count": 105,
   "metadata": {},
   "outputs": [
    {
     "data": {
      "text/plain": [
       "[[1, 1]]"
      ]
     },
     "execution_count": 105,
     "metadata": {},
     "output_type": "execute_result"
    }
   ],
   "source": [
    "surround"
   ]
  },
  {
   "cell_type": "code",
   "execution_count": 108,
   "metadata": {},
   "outputs": [],
   "source": [
    "g.putStone([1], [2], 'O')"
   ]
  },
  {
   "cell_type": "code",
   "execution_count": 22,
   "metadata": {},
   "outputs": [
    {
     "name": "stdout",
     "output_type": "stream",
     "text": [
      "True\n"
     ]
    }
   ],
   "source": [
    "print(g.surrounded(1, 1))"
   ]
  },
  {
   "cell_type": "code",
   "execution_count": 23,
   "metadata": {},
   "outputs": [
    {
     "data": {
      "text/plain": [
       "True"
      ]
     },
     "execution_count": 23,
     "metadata": {},
     "output_type": "execute_result"
    }
   ],
   "source": [
    "g.surrounded(1, 1)"
   ]
  },
  {
   "cell_type": "code",
   "execution_count": 28,
   "metadata": {},
   "outputs": [
    {
     "data": {
      "text/plain": [
       "0"
      ]
     },
     "execution_count": 28,
     "metadata": {},
     "output_type": "execute_result"
    }
   ],
   "source": [
    "g.calculate(board,1,1)"
   ]
  },
  {
   "cell_type": "code",
   "execution_count": 183,
   "metadata": {},
   "outputs": [
    {
     "name": "stdout",
     "output_type": "stream",
     "text": [
      "True\n"
     ]
    }
   ],
   "source": [
    "g = BoardGame(3, 3)\n",
    "g.putStone([1], [1], 'O')\n",
    "print(g.surrounded(1, 1))"
   ]
  },
  {
   "cell_type": "code",
   "execution_count": 207,
   "metadata": {},
   "outputs": [
    {
     "name": "stdout",
     "output_type": "stream",
     "text": [
      "False\n",
      "False\n",
      "True\n",
      "False\n",
      "False\n"
     ]
    }
   ],
   "source": [
    "g = BoardGame(3, 3)\n",
    "g.putStone([1], [1], 'O')\n",
    "print(g.surrounded(1, 1))\n",
    "\n",
    "g.putStone([0, 1, 1], [1, 0, 2], 'X')\n",
    "print(g.surrounded(1, 1))\n",
    "\n",
    "g.putStone([2], [1], 'X')\n",
    "print(g.surrounded(1, 1))\n",
    "print(g.surrounded(2, 1))\n",
    "\n",
    "g.putStone([2], [0], 'O')\n",
    "print(g.surrounded(2, 0))"
   ]
  },
  {
   "cell_type": "code",
   "execution_count": 34,
   "metadata": {},
   "outputs": [],
   "source": [
    "class Solution:\n",
    "    def solve(self, board: List[List[str]]) -> None:\n",
    "        \"\"\"\n",
    "        Do not return anything, modify board in-place instead.\n",
    "        \"\"\"\n",
    "        f = {}\n",
    "        def find(x):              #查找所属类\n",
    "            f.setdefault(x,x)\n",
    "            if f[x] != x:\n",
    "                f[x] = find(f[x])         #查找过程中，压缩路径\n",
    "            return f[x]\n",
    "        \n",
    "        def union(x, y):\n",
    "            f[find(y)] = find(x)           #连接同类的节点\n",
    "        \n",
    "        if not board or not board[0]:return board\n",
    "\n",
    "        m = len(board)\n",
    "        n = len(board[0])\n",
    "        dummy = m*n\n",
    "\n",
    "        for i in range(m):\n",
    "            for j in range(n):\n",
    "                if board[i][j] == 'O':\n",
    "                    if i == 0 or i == m-1 or j == 0 or j== n-1:\n",
    "                        union(i*n+j, dummy)\n",
    "                    else:\n",
    "                        for r, c in [(-1, 0), (1, 0), (0, -1), (0, 1)]:\n",
    "                            if board[i+r][j+c] == 'O':\n",
    "                                union(i*n+j, (i+r)*n+(j+c))\n",
    "                    # print(f)\n",
    "        \n",
    "        for i in range(m):\n",
    "            for j in range(n):\n",
    "                if board[i][j] == 'O' and  find(i*n+j) != find(dummy):\n",
    "                    board[i][j] = 'X'\n",
    "                    # print(f)\n",
    "        # print(f)\n",
    "        return board"
   ]
  },
  {
   "cell_type": "code",
   "execution_count": null,
   "metadata": {},
   "outputs": [],
   "source": [
    "class Solution:\n",
    "    def calculate(self, board, row, col):\n",
    "        res = 0\n",
    "        board[row][col] = 'b'\n",
    "        for i in range(len(board)):\n",
    "            for j in range(len(board[0])):\n",
    "                if board[i][j] == 'w':\n",
    "                    res = max(res, self.dfs(board, i, j, 1))\n",
    "        return 0 if res == float('inf') else res\n",
    "\n",
    "    def dfs(self, board, i, j, count):\n",
    "        if self.surround_by_b(board, i, j):\n",
    "            return count\n",
    "        elif self.surround_by_e(board, i, j):\n",
    "            return float('inf')\n",
    "        max_count = 1\n",
    "        board[i][j] = 'b'\n",
    "        for k, v in [(i-1, j), (i, j-1), (i+1, j), (i, j+1)]:\n",
    "            if self.valid(board, k, v):\n",
    "                max_count = max(max_count, self.dfs(board, k, v, count+1))\n",
    "        return max_count\n",
    "\n",
    "    def valid(self, k, v):\n",
    "        if 0 <= k < len(board) and 0 <= v < len(board[0]) and board[k][v] == 'w':\n",
    "            return True\n",
    "        return False\n",
    "\n",
    "    def surround_by_b(self, board, i, j):\n",
    "        if (board[i-1][j] == board[i][j-1] ==\n",
    "            board[i+1][j] == board[i][j+1] == 'b'):\n",
    "            return True\n",
    "        return False\n",
    "\n",
    "    def surround_by_e(self, board, i, j):\n",
    "        if (board[i-1][j] == 'e' or board[i][j-1] == 'e'\n",
    "            or board[i+1][j] == 'e' or board[i][j+1] == 'e'):\n",
    "            return True\n",
    "        return False```"
   ]
  },
  {
   "cell_type": "code",
   "execution_count": null,
   "metadata": {},
   "outputs": [],
   "source": []
  },
  {
   "cell_type": "code",
   "execution_count": null,
   "metadata": {},
   "outputs": [],
   "source": []
  },
  {
   "cell_type": "code",
   "execution_count": null,
   "metadata": {},
   "outputs": [],
   "source": []
  },
  {
   "cell_type": "code",
   "execution_count": null,
   "metadata": {},
   "outputs": [],
   "source": []
  }
 ],
 "metadata": {
  "kernelspec": {
   "display_name": "Python 3",
   "language": "python",
   "name": "python3"
  },
  "language_info": {
   "codemirror_mode": {
    "name": "ipython",
    "version": 3
   },
   "file_extension": ".py",
   "mimetype": "text/x-python",
   "name": "python",
   "nbconvert_exporter": "python",
   "pygments_lexer": "ipython3",
   "version": "3.8.3"
  }
 },
 "nbformat": 4,
 "nbformat_minor": 4
}
