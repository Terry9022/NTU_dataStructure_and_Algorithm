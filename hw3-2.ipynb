{
 "cells": [
  {
   "cell_type": "code",
   "execution_count": null,
   "metadata": {},
   "outputs": [],
   "source": [
    "#Q2"
   ]
  },
  {
   "cell_type": "code",
   "execution_count": null,
   "metadata": {},
   "outputs": [],
   "source": [
    "from typing import List\n",
    "\n",
    "class Warriors: \n",
    "    def warriors(self, strength :List[int], attack_range :List[int]):\n",
    "        \"\"\"\n",
    "        Given the attributes of each warriors and output the minimal and maximum\n",
    "        index of warrior can be attacked by each warrior.\n",
    "\n",
    "        Parameters:\n",
    "          strength (List[int]): The strength value of N warriors\n",
    "          attack_range (List[int]): The range value of N warriors\n",
    "\n",
    "        Returns:\n",
    "          attack_interval (List[int]):\n",
    "              The min and the max index that the warrior can attack.\n",
    "              The format of output is 2N int array `[a0, b0, a1, b1, ...]`\n",
    "        \"\"\"\n",
    "        \n",
    "        attack_interval=[]\n",
    "        \n",
    "        N=len(strength)\n",
    "        \n",
    "        for i in range(N):\n",
    "            left=i\n",
    "            right=i\n",
    "            attack_range_num= attack_range[i]\n",
    "                \n",
    "            attack_range_left = max(i-attack_range_num,0)\n",
    "            attack_range_right = min(i+attack_range_num,N-1)\n",
    "            \n",
    "            for j in range(i-1,attack_range_left-1,-1):\n",
    "                if  strength[i] <= strength[j]:\n",
    "                    \n",
    "                    break\n",
    "                    \n",
    "                left-=1  \n",
    "                    \n",
    "                \n",
    "            for h in range(i+1,attack_range_right+1,1):\n",
    "                if  strength[i] <= strength[h]:\n",
    "                    \n",
    "                    break\n",
    "                    \n",
    "                right+=1\n",
    "                \n",
    "            attack_interval.append(left)\n",
    "            attack_interval.append(right)\n",
    "        \n",
    "        \n",
    "        return attack_interval"
   ]
  },
  {
   "cell_type": "code",
   "execution_count": 88,
   "metadata": {},
   "outputs": [
    {
     "name": "stdout",
     "output_type": "stream",
     "text": [
      "[0, 0, 0, 3, 2, 3, 3, 3, 2, 4]\n"
     ]
    }
   ],
   "source": [
    "if __name__ == \"__main__\":\n",
    "    sol = Warriors()\n",
    "    print(sol.warriors([11, 13, 11, 7, 15],\n",
    "                       [ 1,  8,  1, 7,  2]))\n",
    "    \n",
    " # Output [0, 0, 0, 3, 2, 3, 3, 3, 2, 4]"
   ]
  },
  {
   "cell_type": "code",
   "execution_count": 97,
   "metadata": {},
   "outputs": [],
   "source": [
    "import time\n",
    "tstart = time.time()#計時開始\n",
    " \n",
    "\n",
    "for i in range(500000):\n",
    "    i==1\n",
    "tend = time.time()#計時開始\n"
   ]
  },
  {
   "cell_type": "code",
   "execution_count": 98,
   "metadata": {},
   "outputs": [
    {
     "data": {
      "text/plain": [
       "0.03272390365600586"
      ]
     },
     "execution_count": 98,
     "metadata": {},
     "output_type": "execute_result"
    }
   ],
   "source": [
    "tend-tstart"
   ]
  }
 ],
 "metadata": {
  "kernelspec": {
   "display_name": "Python 3",
   "language": "python",
   "name": "python3"
  },
  "language_info": {
   "codemirror_mode": {
    "name": "ipython",
    "version": 3
   },
   "file_extension": ".py",
   "mimetype": "text/x-python",
   "name": "python",
   "nbconvert_exporter": "python",
   "pygments_lexer": "ipython3",
   "version": "3.8.3"
  }
 },
 "nbformat": 4,
 "nbformat_minor": 4
}
