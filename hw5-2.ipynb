{
 "cells": [
  {
   "cell_type": "code",
   "execution_count": 15,
   "metadata": {},
   "outputs": [],
   "source": [
    "class Calendar:\n",
    "    def __init__(self):\n",
    "        \n",
    "        self.date={}\n",
    "\n",
    "    def book(self, start: int, end: int) -> bool:\n",
    "        \"\"\"\n",
    "        Book the event where interval started from start(included) to end(excluded)\n",
    "\n",
    "        If availble: book it and return True\n",
    "        else: return False\n",
    "        \"\"\"\n",
    "        \n",
    "        for i in range(start,end):\n",
    "            if i in self.date.keys() and self.date[i]==\"X\":\n",
    "                return False\n",
    "        \n",
    "        for i in range(start,end):\n",
    "            self.date[i]=\"X\"\n",
    "        return True\n",
    "\n",
    "\n"
   ]
  },
  {
   "cell_type": "code",
   "execution_count": 16,
   "metadata": {},
   "outputs": [
    {
     "name": "stdout",
     "output_type": "stream",
     "text": [
      "True\n",
      "False\n",
      "True\n",
      "False\n",
      "True\n",
      "True\n"
     ]
    }
   ],
   "source": [
    "a = Calendar()\n",
    "print(a.book(5, 15))\n",
    "print(a.book(0, 18))\n",
    "print(a.book(24, 29))\n",
    "print(a.book(13, 25))\n",
    "print(a.book(18, 22))\n",
    "print(a.book(15, 18))"
   ]
  },
  {
   "cell_type": "code",
   "execution_count": 17,
   "metadata": {},
   "outputs": [
    {
     "data": {
      "text/plain": [
       "{5: 'X',\n",
       " 6: 'X',\n",
       " 7: 'X',\n",
       " 8: 'X',\n",
       " 9: 'X',\n",
       " 10: 'X',\n",
       " 11: 'X',\n",
       " 12: 'X',\n",
       " 13: 'X',\n",
       " 14: 'X',\n",
       " 24: 'X',\n",
       " 25: 'X',\n",
       " 26: 'X',\n",
       " 27: 'X',\n",
       " 28: 'X',\n",
       " 18: 'X',\n",
       " 19: 'X',\n",
       " 20: 'X',\n",
       " 21: 'X',\n",
       " 15: 'X',\n",
       " 16: 'X',\n",
       " 17: 'X'}"
      ]
     },
     "execution_count": 17,
     "metadata": {},
     "output_type": "execute_result"
    }
   ],
   "source": [
    "a.date"
   ]
  },
  {
   "cell_type": "code",
   "execution_count": 18,
   "metadata": {},
   "outputs": [
    {
     "name": "stdout",
     "output_type": "stream",
     "text": [
      "True\n",
      "False\n",
      "True\n",
      "False\n",
      "True\n",
      "False\n",
      "True\n",
      "True\n",
      "False\n",
      "True\n",
      "False\n",
      "True\n",
      "True\n"
     ]
    }
   ],
   "source": [
    "if __name__ == \"__main__\":\n",
    "    a = Calendar()\n",
    "    print(a.book(10, 20))\n",
    "    print(a.book(15, 25))\n",
    "    print(a.book(20, 25))\n",
    "    print(a.book(17, 21))\n",
    "    print(a.book(0, 3)) \n",
    "    print(a.book(2, 6)) \n",
    "    print(a.book(3, 6)) \n",
    "    \"\"\" \n",
    "    True\n",
    "    False  #[15, 20) is unavailable\n",
    "    True\n",
    "    False  #[17, 21] is unavailable\n",
    "    True\n",
    "    False  #[2, 3) is unavailable\n",
    "    True\n",
    "    \"\"\"\n",
    "\n",
    "    a = Calendar()\n",
    "    print(a.book(5, 15))\n",
    "    print(a.book(0, 18))\n",
    "    print(a.book(24, 29))\n",
    "    print(a.book(13, 25))\n",
    "    print(a.book(18, 22))\n",
    "    print(a.book(15, 18))\n",
    "    \"\"\" \n",
    "    True\n",
    "    False  #[5, 15) is unavailable\n",
    "    True\n",
    "    False  #[24, 25] is unavailable\n",
    "    True\n",
    "    True\n",
    "    \"\"\""
   ]
  },
  {
   "cell_type": "code",
   "execution_count": null,
   "metadata": {},
   "outputs": [],
   "source": []
  }
 ],
 "metadata": {
  "kernelspec": {
   "display_name": "Python 3",
   "language": "python",
   "name": "python3"
  },
  "language_info": {
   "codemirror_mode": {
    "name": "ipython",
    "version": 3
   },
   "file_extension": ".py",
   "mimetype": "text/x-python",
   "name": "python",
   "nbconvert_exporter": "python",
   "pygments_lexer": "ipython3",
   "version": "3.8.3"
  }
 },
 "nbformat": 4,
 "nbformat_minor": 4
}
